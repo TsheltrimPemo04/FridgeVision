{
  "cells": [
    {
      "cell_type": "code",
      "execution_count": null,
      "metadata": {
        "colab": {
          "base_uri": "https://localhost:8080/"
        },
        "id": "3ATicpnRFN9D",
        "outputId": "510462f3-e455-4791-bb59-bf9ff636cdb4"
      },
      "outputs": [
        {
          "name": "stdout",
          "output_type": "stream",
          "text": [
            "Collecting ultralytics\n",
            "  Downloading ultralytics-8.3.23-py3-none-any.whl.metadata (35 kB)\n",
            "Requirement already satisfied: numpy>=1.23.0 in /usr/local/lib/python3.10/dist-packages (from ultralytics) (1.26.4)\n",
            "Requirement already satisfied: matplotlib>=3.3.0 in /usr/local/lib/python3.10/dist-packages (from ultralytics) (3.7.1)\n",
            "Requirement already satisfied: opencv-python>=4.6.0 in /usr/local/lib/python3.10/dist-packages (from ultralytics) (4.10.0.84)\n",
            "Requirement already satisfied: pillow>=7.1.2 in /usr/local/lib/python3.10/dist-packages (from ultralytics) (10.4.0)\n",
            "Requirement already satisfied: pyyaml>=5.3.1 in /usr/local/lib/python3.10/dist-packages (from ultralytics) (6.0.2)\n",
            "Requirement already satisfied: requests>=2.23.0 in /usr/local/lib/python3.10/dist-packages (from ultralytics) (2.32.3)\n",
            "Requirement already satisfied: scipy>=1.4.1 in /usr/local/lib/python3.10/dist-packages (from ultralytics) (1.13.1)\n",
            "Requirement already satisfied: torch>=1.8.0 in /usr/local/lib/python3.10/dist-packages (from ultralytics) (2.5.0+cu121)\n",
            "Requirement already satisfied: torchvision>=0.9.0 in /usr/local/lib/python3.10/dist-packages (from ultralytics) (0.20.0+cu121)\n",
            "Requirement already satisfied: tqdm>=4.64.0 in /usr/local/lib/python3.10/dist-packages (from ultralytics) (4.66.5)\n",
            "Requirement already satisfied: psutil in /usr/local/lib/python3.10/dist-packages (from ultralytics) (5.9.5)\n",
            "Requirement already satisfied: py-cpuinfo in /usr/local/lib/python3.10/dist-packages (from ultralytics) (9.0.0)\n",
            "Requirement already satisfied: pandas>=1.1.4 in /usr/local/lib/python3.10/dist-packages (from ultralytics) (2.2.2)\n",
            "Requirement already satisfied: seaborn>=0.11.0 in /usr/local/lib/python3.10/dist-packages (from ultralytics) (0.13.2)\n",
            "Collecting ultralytics-thop>=2.0.0 (from ultralytics)\n",
            "  Downloading ultralytics_thop-2.0.9-py3-none-any.whl.metadata (9.3 kB)\n",
            "Requirement already satisfied: contourpy>=1.0.1 in /usr/local/lib/python3.10/dist-packages (from matplotlib>=3.3.0->ultralytics) (1.3.0)\n",
            "Requirement already satisfied: cycler>=0.10 in /usr/local/lib/python3.10/dist-packages (from matplotlib>=3.3.0->ultralytics) (0.12.1)\n",
            "Requirement already satisfied: fonttools>=4.22.0 in /usr/local/lib/python3.10/dist-packages (from matplotlib>=3.3.0->ultralytics) (4.54.1)\n",
            "Requirement already satisfied: kiwisolver>=1.0.1 in /usr/local/lib/python3.10/dist-packages (from matplotlib>=3.3.0->ultralytics) (1.4.7)\n",
            "Requirement already satisfied: packaging>=20.0 in /usr/local/lib/python3.10/dist-packages (from matplotlib>=3.3.0->ultralytics) (24.1)\n",
            "Requirement already satisfied: pyparsing>=2.3.1 in /usr/local/lib/python3.10/dist-packages (from matplotlib>=3.3.0->ultralytics) (3.2.0)\n",
            "Requirement already satisfied: python-dateutil>=2.7 in /usr/local/lib/python3.10/dist-packages (from matplotlib>=3.3.0->ultralytics) (2.8.2)\n",
            "Requirement already satisfied: pytz>=2020.1 in /usr/local/lib/python3.10/dist-packages (from pandas>=1.1.4->ultralytics) (2024.2)\n",
            "Requirement already satisfied: tzdata>=2022.7 in /usr/local/lib/python3.10/dist-packages (from pandas>=1.1.4->ultralytics) (2024.2)\n",
            "Requirement already satisfied: charset-normalizer<4,>=2 in /usr/local/lib/python3.10/dist-packages (from requests>=2.23.0->ultralytics) (3.4.0)\n",
            "Requirement already satisfied: idna<4,>=2.5 in /usr/local/lib/python3.10/dist-packages (from requests>=2.23.0->ultralytics) (3.10)\n",
            "Requirement already satisfied: urllib3<3,>=1.21.1 in /usr/local/lib/python3.10/dist-packages (from requests>=2.23.0->ultralytics) (2.2.3)\n",
            "Requirement already satisfied: certifi>=2017.4.17 in /usr/local/lib/python3.10/dist-packages (from requests>=2.23.0->ultralytics) (2024.8.30)\n",
            "Requirement already satisfied: filelock in /usr/local/lib/python3.10/dist-packages (from torch>=1.8.0->ultralytics) (3.16.1)\n",
            "Requirement already satisfied: typing-extensions>=4.8.0 in /usr/local/lib/python3.10/dist-packages (from torch>=1.8.0->ultralytics) (4.12.2)\n",
            "Requirement already satisfied: networkx in /usr/local/lib/python3.10/dist-packages (from torch>=1.8.0->ultralytics) (3.4.2)\n",
            "Requirement already satisfied: jinja2 in /usr/local/lib/python3.10/dist-packages (from torch>=1.8.0->ultralytics) (3.1.4)\n",
            "Requirement already satisfied: fsspec in /usr/local/lib/python3.10/dist-packages (from torch>=1.8.0->ultralytics) (2024.6.1)\n",
            "Requirement already satisfied: sympy==1.13.1 in /usr/local/lib/python3.10/dist-packages (from torch>=1.8.0->ultralytics) (1.13.1)\n",
            "Requirement already satisfied: mpmath<1.4,>=1.1.0 in /usr/local/lib/python3.10/dist-packages (from sympy==1.13.1->torch>=1.8.0->ultralytics) (1.3.0)\n",
            "Requirement already satisfied: six>=1.5 in /usr/local/lib/python3.10/dist-packages (from python-dateutil>=2.7->matplotlib>=3.3.0->ultralytics) (1.16.0)\n",
            "Requirement already satisfied: MarkupSafe>=2.0 in /usr/local/lib/python3.10/dist-packages (from jinja2->torch>=1.8.0->ultralytics) (3.0.2)\n",
            "Downloading ultralytics-8.3.23-py3-none-any.whl (877 kB)\n",
            "\u001b[2K   \u001b[90m━━━━━━━━━━━━━━━━━━━━━━━━━━━━━━━━━━━━━━━━\u001b[0m \u001b[32m877.6/877.6 kB\u001b[0m \u001b[31m7.5 MB/s\u001b[0m eta \u001b[36m0:00:00\u001b[0m\n",
            "\u001b[?25hDownloading ultralytics_thop-2.0.9-py3-none-any.whl (26 kB)\n",
            "Installing collected packages: ultralytics-thop, ultralytics\n",
            "Successfully installed ultralytics-8.3.23 ultralytics-thop-2.0.9\n"
          ]
        }
      ],
      "source": [
        "!pip install ultralytics"
      ]
    },
    {
      "cell_type": "code",
      "execution_count": null,
      "metadata": {
        "colab": {
          "base_uri": "https://localhost:8080/"
        },
        "id": "LsJHSb4cFZAh",
        "outputId": "bed92ebd-d6ee-4825-9a86-4d48d22d4405"
      },
      "outputs": [
        {
          "name": "stdout",
          "output_type": "stream",
          "text": [
            "Mounted at /content/drive\n"
          ]
        }
      ],
      "source": [
        "from google.colab import drive\n",
        "drive.mount('/content/drive')"
      ]
    },
    {
      "cell_type": "code",
      "execution_count": null,
      "metadata": {
        "id": "C-i3FfygFdR0"
      },
      "outputs": [],
      "source": [
        "!mkdir -p /content/ultralytics/"
      ]
    },
    {
      "cell_type": "code",
      "execution_count": null,
      "metadata": {
        "id": "jt0P0waMFwzt"
      },
      "outputs": [],
      "source": [
        "!cp -r /content/drive/MyDrive/Datasets /content/ultralytics/"
      ]
    },
    {
      "cell_type": "code",
      "execution_count": null,
      "metadata": {
        "colab": {
          "base_uri": "https://localhost:8080/"
        },
        "id": "r87_RlKmFzV1",
        "outputId": "6461d7e9-0c7b-4c5b-9436-65c52d1389ac"
      },
      "outputs": [
        {
          "name": "stdout",
          "output_type": "stream",
          "text": [
            "YAML file created successfully.\n"
          ]
        }
      ],
      "source": [
        "# Create and write the YAML configuration file\n",
        "yaml_content = \"\"\"\n",
        "train: /content/ultralytics/Datasets/images/train\n",
        "val: /content/ultralytics/Datasets/images/val\n",
        "\n",
        "# Classes\n",
        "nc: 7  # Number of classes (now excluding 'Mixed')\n",
        "names: ['Tomato', 'Spinach', 'Potato', 'Milk', 'Eggs', 'Bread', 'Banana']  # Updated class names\n",
        "\"\"\"\n",
        "\n",
        "# Write the content to a fridge_dataset.yaml file\n",
        "with open('/content/dataset.yaml', 'w') as file:\n",
        "    file.write(yaml_content)\n",
        "\n",
        "print(\"YAML file created successfully.\")"
      ]
    },
    {
      "cell_type": "code",
      "execution_count": null,
      "metadata": {
        "colab": {
          "base_uri": "https://localhost:8080/"
        },
        "id": "kQEx6_K-F-51",
        "outputId": "1edb59e1-248b-4491-ff4b-b892a5daa2eb"
      },
      "outputs": [
        {
          "data": {
            "text/plain": [
              "['.config', 'dataset.yaml', 'ultralytics', 'drive', 'sample_data']"
            ]
          },
          "execution_count": 7,
          "metadata": {},
          "output_type": "execute_result"
        }
      ],
      "source": [
        "import os\n",
        "os.listdir('/content/')"
      ]
    },
    {
      "cell_type": "code",
      "execution_count": null,
      "metadata": {
        "colab": {
          "base_uri": "https://localhost:8080/"
        },
        "id": "cNcKB9tAGGUg",
        "outputId": "05e9e59b-5700-4ab8-d2ce-10841c300617"
      },
      "outputs": [
        {
          "name": "stdout",
          "output_type": "stream",
          "text": [
            "Creating new Ultralytics Settings v0.0.6 file ✅ \n",
            "View Ultralytics Settings with 'yolo settings' or at '/root/.config/Ultralytics/settings.json'\n",
            "Update Settings with 'yolo settings key=value', i.e. 'yolo settings runs_dir=path/to/dir'. For help see https://docs.ultralytics.com/quickstart/#ultralytics-settings.\n",
            "Downloading https://github.com/ultralytics/assets/releases/download/v8.3.0/yolov8n.pt to 'yolov8n.pt'...\n"
          ]
        },
        {
          "name": "stderr",
          "output_type": "stream",
          "text": [
            "100%|██████████| 6.25M/6.25M [00:00<00:00, 24.8MB/s]\n"
          ]
        }
      ],
      "source": [
        "from ultralytics import YOLO\n",
        "\n",
        "# Load YOLOv8 small model (YOLOv8s)\n",
        "model = YOLO('yolov8n.pt')  # Use 'yolov8n.pt' for nano or other variants if needed"
      ]
    },
    {
      "cell_type": "code",
      "execution_count": null,
      "metadata": {
        "colab": {
          "base_uri": "https://localhost:8080/"
        },
        "id": "7MBkvE-Gqhyh",
        "outputId": "0993c192-a3dd-4b72-8746-a249c45f6fc2"
      },
      "outputs": [
        {
          "name": "stdout",
          "output_type": "stream",
          "text": [
            "Ultralytics 8.3.11 🚀 Python-3.10.12 torch-2.4.1+cu121 CPU (Intel Xeon 2.20GHz)\n",
            "\u001b[34m\u001b[1mengine/trainer: \u001b[0mtask=detect, mode=train, model=yolov8n.pt, data=/content/dataset.yaml, epochs=5, time=None, patience=100, batch=8, imgsz=416, save=True, save_period=-1, cache=False, device=None, workers=8, project=None, name=train2, exist_ok=False, pretrained=True, optimizer=auto, verbose=True, seed=0, deterministic=True, single_cls=False, rect=False, cos_lr=False, close_mosaic=10, resume=False, amp=True, fraction=1.0, profile=False, freeze=None, multi_scale=False, overlap_mask=True, mask_ratio=4, dropout=0.0, val=True, split=val, save_json=False, save_hybrid=False, conf=None, iou=0.7, max_det=300, half=False, dnn=False, plots=True, source=None, vid_stride=1, stream_buffer=False, visualize=False, augment=False, agnostic_nms=False, classes=None, retina_masks=False, embed=None, show=False, save_frames=False, save_txt=False, save_conf=False, save_crop=False, show_labels=True, show_conf=True, show_boxes=True, line_width=None, format=torchscript, keras=False, optimize=False, int8=False, dynamic=False, simplify=True, opset=None, workspace=4, nms=False, lr0=0.01, lrf=0.01, momentum=0.937, weight_decay=0.0005, warmup_epochs=3.0, warmup_momentum=0.8, warmup_bias_lr=0.1, box=7.5, cls=0.5, dfl=1.5, pose=12.0, kobj=1.0, label_smoothing=0.0, nbs=64, hsv_h=0.015, hsv_s=0.7, hsv_v=0.4, degrees=0.0, translate=0.1, scale=0.5, shear=0.0, perspective=0.0, flipud=0.0, fliplr=0.5, bgr=0.0, mosaic=1.0, mixup=0.0, copy_paste=0.0, copy_paste_mode=flip, auto_augment=randaugment, erasing=0.4, crop_fraction=1.0, cfg=None, tracker=botsort.yaml, save_dir=runs/detect/train2\n",
            "\n",
            "                   from  n    params  module                                       arguments                     \n",
            "  0                  -1  1       464  ultralytics.nn.modules.conv.Conv             [3, 16, 3, 2]                 \n",
            "  1                  -1  1      4672  ultralytics.nn.modules.conv.Conv             [16, 32, 3, 2]                \n",
            "  2                  -1  1      7360  ultralytics.nn.modules.block.C2f             [32, 32, 1, True]             \n",
            "  3                  -1  1     18560  ultralytics.nn.modules.conv.Conv             [32, 64, 3, 2]                \n",
            "  4                  -1  2     49664  ultralytics.nn.modules.block.C2f             [64, 64, 2, True]             \n",
            "  5                  -1  1     73984  ultralytics.nn.modules.conv.Conv             [64, 128, 3, 2]               \n",
            "  6                  -1  2    197632  ultralytics.nn.modules.block.C2f             [128, 128, 2, True]           \n",
            "  7                  -1  1    295424  ultralytics.nn.modules.conv.Conv             [128, 256, 3, 2]              \n",
            "  8                  -1  1    460288  ultralytics.nn.modules.block.C2f             [256, 256, 1, True]           \n",
            "  9                  -1  1    164608  ultralytics.nn.modules.block.SPPF            [256, 256, 5]                 \n",
            " 10                  -1  1         0  torch.nn.modules.upsampling.Upsample         [None, 2, 'nearest']          \n",
            " 11             [-1, 6]  1         0  ultralytics.nn.modules.conv.Concat           [1]                           \n",
            " 12                  -1  1    148224  ultralytics.nn.modules.block.C2f             [384, 128, 1]                 \n",
            " 13                  -1  1         0  torch.nn.modules.upsampling.Upsample         [None, 2, 'nearest']          \n",
            " 14             [-1, 4]  1         0  ultralytics.nn.modules.conv.Concat           [1]                           \n",
            " 15                  -1  1     37248  ultralytics.nn.modules.block.C2f             [192, 64, 1]                  \n",
            " 16                  -1  1     36992  ultralytics.nn.modules.conv.Conv             [64, 64, 3, 2]                \n",
            " 17            [-1, 12]  1         0  ultralytics.nn.modules.conv.Concat           [1]                           \n",
            " 18                  -1  1    123648  ultralytics.nn.modules.block.C2f             [192, 128, 1]                 \n",
            " 19                  -1  1    147712  ultralytics.nn.modules.conv.Conv             [128, 128, 3, 2]              \n",
            " 20             [-1, 9]  1         0  ultralytics.nn.modules.conv.Concat           [1]                           \n",
            " 21                  -1  1    493056  ultralytics.nn.modules.block.C2f             [384, 256, 1]                 \n",
            " 22        [15, 18, 21]  1    432037  ultralytics.nn.modules.head.Detect           [7, [64, 128, 256]]           \n",
            "Model summary: 249 layers, 2,691,573 parameters, 2,691,557 gradients, 6.9 GFLOPs\n",
            "\n",
            "Transferred 391/391 items from pretrained weights\n",
            "\u001b[34m\u001b[1mTensorBoard: \u001b[0mStart with 'tensorboard --logdir runs/detect/train2', view at http://localhost:6006/\n",
            "Freezing layer 'model.22.dfl.conv.weight'\n"
          ]
        },
        {
          "name": "stderr",
          "output_type": "stream",
          "text": [
            "\u001b[34m\u001b[1mtrain: \u001b[0mScanning /content/drive/.shortcut-targets-by-id/1HX6wbQAvSQWO_kDemmLjQyfjYMvPaWbe/Datasets/labels/train.cache... 3200 images, 0 backgrounds, 0 corrupt: 100%|██████████| 3200/3200 [00:00<?, ?it/s]"
          ]
        },
        {
          "name": "stdout",
          "output_type": "stream",
          "text": [
            "\u001b[34m\u001b[1malbumentations: \u001b[0mBlur(p=0.01, blur_limit=(3, 7)), MedianBlur(p=0.01, blur_limit=(3, 7)), ToGray(p=0.01, num_output_channels=3, method='weighted_average'), CLAHE(p=0.01, clip_limit=(1, 4.0), tile_grid_size=(8, 8))\n"
          ]
        },
        {
          "name": "stderr",
          "output_type": "stream",
          "text": [
            "\n",
            "\u001b[34m\u001b[1mval: \u001b[0mScanning /content/drive/.shortcut-targets-by-id/1HX6wbQAvSQWO_kDemmLjQyfjYMvPaWbe/Datasets/labels/val.cache... 800 images, 0 backgrounds, 0 corrupt: 100%|██████████| 800/800 [00:00<?, ?it/s]"
          ]
        },
        {
          "name": "stdout",
          "output_type": "stream",
          "text": [
            "Plotting labels to runs/detect/train2/labels.jpg... \n"
          ]
        },
        {
          "name": "stderr",
          "output_type": "stream",
          "text": [
            "\n"
          ]
        },
        {
          "name": "stdout",
          "output_type": "stream",
          "text": [
            "\u001b[34m\u001b[1moptimizer:\u001b[0m 'optimizer=auto' found, ignoring 'lr0=0.01' and 'momentum=0.937' and determining best 'optimizer', 'lr0' and 'momentum' automatically... \n",
            "\u001b[34m\u001b[1moptimizer:\u001b[0m AdamW(lr=0.000909, momentum=0.9) with parameter groups 63 weight(decay=0.0), 70 weight(decay=0.0005), 69 bias(decay=0.0)\n",
            "\u001b[34m\u001b[1mTensorBoard: \u001b[0mmodel graph visualization added ✅\n",
            "Image sizes 416 train, 416 val\n",
            "Using 0 dataloader workers\n",
            "Logging results to \u001b[1mruns/detect/train2\u001b[0m\n",
            "Starting training for 5 epochs...\n",
            "\n",
            "      Epoch    GPU_mem   box_loss   cls_loss   dfl_loss  Instances       Size\n"
          ]
        },
        {
          "name": "stderr",
          "output_type": "stream",
          "text": [
            "        1/5         0G      2.235      3.441      2.019         62        416: 100%|██████████| 400/400 [21:28<00:00,  3.22s/it]\n",
            "                 Class     Images  Instances      Box(P          R      mAP50  mAP50-95): 100%|██████████| 50/50 [05:07<00:00,  6.14s/it]\n"
          ]
        },
        {
          "name": "stdout",
          "output_type": "stream",
          "text": [
            "                   all        800       2201      0.308      0.287       0.19     0.0714\n",
            "\n",
            "      Epoch    GPU_mem   box_loss   cls_loss   dfl_loss  Instances       Size\n"
          ]
        },
        {
          "name": "stderr",
          "output_type": "stream",
          "text": [
            "        2/5         0G      2.274       2.96      2.037         48        416: 100%|██████████| 400/400 [20:12<00:00,  3.03s/it]\n",
            "                 Class     Images  Instances      Box(P          R      mAP50  mAP50-95): 100%|██████████| 50/50 [01:41<00:00,  2.04s/it]\n"
          ]
        },
        {
          "name": "stdout",
          "output_type": "stream",
          "text": [
            "                   all        800       2201      0.323      0.273      0.195     0.0742\n",
            "\n",
            "      Epoch    GPU_mem   box_loss   cls_loss   dfl_loss  Instances       Size\n"
          ]
        },
        {
          "name": "stderr",
          "output_type": "stream",
          "text": [
            "        3/5         0G      2.198      2.801          2         42        416: 100%|██████████| 400/400 [20:01<00:00,  3.00s/it]\n",
            "                 Class     Images  Instances      Box(P          R      mAP50  mAP50-95): 100%|██████████| 50/50 [01:44<00:00,  2.10s/it]"
          ]
        },
        {
          "name": "stdout",
          "output_type": "stream",
          "text": [
            "                   all        800       2201      0.357      0.301      0.219     0.0858\n"
          ]
        },
        {
          "name": "stderr",
          "output_type": "stream",
          "text": [
            "\n"
          ]
        },
        {
          "name": "stdout",
          "output_type": "stream",
          "text": [
            "\n",
            "      Epoch    GPU_mem   box_loss   cls_loss   dfl_loss  Instances       Size\n"
          ]
        },
        {
          "name": "stderr",
          "output_type": "stream",
          "text": [
            "        4/5         0G      2.145      2.695      1.968         34        416: 100%|██████████| 400/400 [20:08<00:00,  3.02s/it]\n",
            "                 Class     Images  Instances      Box(P          R      mAP50  mAP50-95): 100%|██████████| 50/50 [01:41<00:00,  2.02s/it]"
          ]
        },
        {
          "name": "stdout",
          "output_type": "stream",
          "text": [
            "                   all        800       2201      0.387      0.329      0.256      0.108\n"
          ]
        },
        {
          "name": "stderr",
          "output_type": "stream",
          "text": [
            "\n"
          ]
        },
        {
          "name": "stdout",
          "output_type": "stream",
          "text": [
            "\n",
            "      Epoch    GPU_mem   box_loss   cls_loss   dfl_loss  Instances       Size\n"
          ]
        },
        {
          "name": "stderr",
          "output_type": "stream",
          "text": [
            "        5/5         0G      2.081      2.601      1.929         48        416: 100%|██████████| 400/400 [20:07<00:00,  3.02s/it]\n",
            "                 Class     Images  Instances      Box(P          R      mAP50  mAP50-95): 100%|██████████| 50/50 [01:47<00:00,  2.15s/it]\n"
          ]
        },
        {
          "name": "stdout",
          "output_type": "stream",
          "text": [
            "                   all        800       2201      0.441      0.336      0.264      0.116\n",
            "\n",
            "5 epochs completed in 1.904 hours.\n",
            "Optimizer stripped from runs/detect/train2/weights/last.pt, 5.6MB\n",
            "Optimizer stripped from runs/detect/train2/weights/best.pt, 5.6MB\n",
            "\n",
            "Validating runs/detect/train2/weights/best.pt...\n",
            "Ultralytics 8.3.11 🚀 Python-3.10.12 torch-2.4.1+cu121 CPU (Intel Xeon 2.20GHz)\n",
            "Model summary (fused): 186 layers, 2,685,733 parameters, 0 gradients, 6.8 GFLOPs\n"
          ]
        },
        {
          "name": "stderr",
          "output_type": "stream",
          "text": [
            "                 Class     Images  Instances      Box(P          R      mAP50  mAP50-95): 100%|██████████| 50/50 [01:33<00:00,  1.87s/it]\n"
          ]
        },
        {
          "name": "stdout",
          "output_type": "stream",
          "text": [
            "                   all        800       2201      0.441      0.335      0.264      0.116\n",
            "                Tomato        147        232      0.528      0.444      0.359      0.128\n",
            "               Spinach        125        151      0.504      0.512      0.442      0.204\n",
            "                Potato        131        505      0.306      0.206      0.133     0.0646\n",
            "                  Milk        134        293      0.562      0.275      0.252      0.119\n",
            "                  Eggs        137        459       0.32      0.266      0.162     0.0815\n",
            "                 Bread        118        156      0.501      0.367      0.325      0.134\n",
            "                Banana        146        405      0.365      0.272      0.175      0.083\n",
            "Speed: 1.2ms preprocess, 96.4ms inference, 0.0ms loss, 4.5ms postprocess per image\n",
            "Results saved to \u001b[1mruns/detect/train2\u001b[0m\n"
          ]
        }
      ],
      "source": [
        "# Start training the model\n",
        "results = model.train(data='/content/dataset.yaml', epochs=5, batch=8, imgsz=416)"
      ]
    },
    {
      "cell_type": "code",
      "execution_count": null,
      "metadata": {
        "colab": {
          "base_uri": "https://localhost:8080/"
        },
        "id": "qo8sHzApGQpv",
        "outputId": "2ea54097-5368-492d-fbec-3e3fe10d22f9"
      },
      "outputs": [
        {
          "name": "stdout",
          "output_type": "stream",
          "text": [
            "Training Images: ['Bread_279.jpg', 'Spinach_296.jpg', 'Potato_171.jpg', 'Potato_467.jpg', 'Milk_72.jpg', 'Bread_159.jpg', 'Mixed_242.jpg', 'Milk_361.jpg', 'Spinach_353.jpg', 'Milk_221.jpg', 'Milk_363.jpg', 'Tomato_256.jpg', 'Banana_437.jpg', 'Banana_43.jpg', 'Bread_311.jpg', 'Milk_182.jpg', 'Eggs_139.jpg', 'Milk_326.jpg', 'Tomato_403.jpg', 'Bread_251.jpg', 'Mixed_469.jpg', 'Mixed_366.jpg', 'Mixed_183.jpg', 'Eggs_290.jpg', 'Banana_213.jpg', 'Potato_323.jpg', 'Potato_216.jpg', 'Mixed_132.jpg', 'Mixed_283.jpg', 'Tomato_271.jpg', 'Mixed_127.jpg', 'Tomato_275.jpg', 'Potato_89.jpg', 'Banana_281.jpg', 'Banana_230.jpg', 'Bread_242.jpg', 'Mixed_381.jpg', 'Eggs_385.jpg', 'Spinach_329.jpg', 'Bread_456.jpg', 'Potato_41.jpg', 'Mixed_379.jpg', 'Eggs_373.jpg', 'Tomato_421.jpg', 'Potato_403.jpg', 'Banana_348.jpg', 'Bread_209.jpg', 'Spinach_376.jpg', 'Bread_381.jpg', 'Milk_393.jpg', 'Potato_233.jpg', 'Spinach_182.jpg', 'Spinach_60.jpg', 'Tomato_183.jpg', 'Milk_44.jpg', 'Bread_277.jpg', 'Bread_454.jpg', 'Milk_428.jpg', 'Tomato_472.jpg', 'Eggs_161.jpg', 'Eggs_123.jpg', 'Mixed_402.jpg', 'Spinach_196.jpg', 'Potato_469.jpg', 'Banana_191.jpg', 'Mixed_124.jpg', 'Eggs_439.jpg', 'Potato_318.jpg', 'Mixed_167.jpg', 'Tomato_287.jpg', 'Bread_19.jpg', 'Potato_421.jpg', 'Milk_79.jpg', 'Bread_327.jpg', 'Eggs_74.jpg', 'Mixed_125.jpg', 'Milk_175.jpg', 'Bread_41.jpg', 'Eggs_115.jpg', 'Banana_3.jpg', 'Spinach_205.jpg', 'Milk_258.jpg', 'Bread_214.jpg', 'Potato_246.jpg', 'Eggs_255.jpg', 'Eggs_15.jpg', 'Tomato_253.jpg', 'Banana_158.jpg', 'Banana_53.jpg', 'Banana_101.jpg', 'Spinach_424.jpg', 'Spinach_38.jpg', 'Tomato_281.jpg', 'Tomato_303.jpg', 'Eggs_20.jpg', 'Potato_151.jpg', 'Potato_234.jpg', 'Eggs_354.jpg', 'Banana_266.jpg', 'Potato_243.jpg', 'Milk_464.jpg', 'Spinach_114.jpg', 'Milk_305.jpg', 'Tomato_315.jpg', 'Eggs_421.jpg', 'Spinach_190.jpg', 'Potato_358.jpg', 'Potato_479.jpg', 'Eggs_389.jpg', 'Banana_334.jpg', 'Eggs_476.jpg', 'Mixed_108.jpg', 'Eggs_79.jpg', 'Spinach_101.jpg', 'Mixed_39.jpg', 'Spinach_384.jpg', 'Mixed_451.jpg', 'Tomato_14.jpg', 'Eggs_134.jpg', 'Spinach_471.jpg', 'Tomato_131.jpg', 'Eggs_414.jpg', 'Tomato_219.jpg', 'Spinach_448.jpg', 'Bread_124.jpg', 'Banana_108.jpg', 'Spinach_122.jpg', 'Spinach_231.jpg', 'Spinach_239.jpg', 'Tomato_155.jpg', 'Mixed_174.jpg', 'Banana_379.jpg', 'Banana_263.jpg', 'Bread_366.jpg', 'Banana_206.jpg', 'Potato_36.jpg', 'Bread_154.jpg', 'Bread_480.jpg', 'Milk_65.jpg', 'Eggs_80.jpg', 'Bread_404.jpg', 'Tomato_17.jpg', 'Milk_53.jpg', 'Tomato_266.jpg', 'Bread_388.jpg', 'Mixed_251.jpg', 'Bread_292.jpg', 'Milk_86.jpg', 'Mixed_186.jpg', 'Spinach_154.jpg', 'Tomato_241.jpg', 'Spinach_465.jpg', 'Spinach_477.jpg', 'Spinach_293.jpg', 'Mixed_292.jpg', 'Eggs_147.jpg', 'Milk_178.jpg', 'Bread_325.jpg', 'Potato_173.jpg', 'Bread_378.jpg', 'Mixed_274.jpg', 'Mixed_488.jpg', 'Milk_129.jpg', 'Mixed_459.jpg', 'Banana_245.jpg', 'Milk_97.jpg', 'Eggs_120.jpg', 'Mixed_358.jpg', 'Tomato_477.jpg', 'Milk_235.jpg', 'Eggs_291.jpg', 'Spinach_5.jpg', 'Milk_7.jpg', 'Mixed_185.jpg', 'Banana_260.jpg', 'Eggs_158.jpg', 'Milk_415.jpg', 'Potato_375.jpg', 'Banana_366.jpg', 'Potato_359.jpg', 'Mixed_147.jpg', 'Eggs_397.jpg', 'Mixed_240.jpg', 'Tomato_182.jpg', 'Spinach_371.jpg', 'Mixed_375.jpg', 'Mixed_36.jpg', 'Spinach_206.jpg', 'Tomato_495.jpg', 'Spinach_383.jpg', 'Spinach_280.jpg', 'Potato_482.jpg', 'Tomato_294.jpg', 'Tomato_200.jpg', 'Eggs_174.jpg', 'Eggs_237.jpg', 'Milk_110.jpg', 'Eggs_69.jpg', 'Milk_342.jpg', 'Mixed_77.jpg', 'Mixed_55.jpg', 'Spinach_188.jpg', 'Banana_360.jpg', 'Spinach_483.jpg', 'Tomato_51.jpg', 'Tomato_429.jpg', 'Banana_452.jpg', 'Bread_330.jpg', 'Potato_309.jpg', 'Banana_91.jpg', 'Potato_307.jpg', 'Mixed_122.jpg', 'Potato_92.jpg', 'Banana_207.jpg', 'Potato_370.jpg', 'Potato_429.jpg', 'Milk_380.jpg', 'Eggs_110.jpg', 'Bread_127.jpg', 'Banana_42.jpg', 'Bread_493.jpg', 'Banana_299.jpg', 'Bread_344.jpg', 'Bread_274.jpg', 'Tomato_185.jpg', 'Tomato_304.jpg', 'Spinach_382.jpg', 'Milk_268.jpg', 'Potato_356.jpg', 'Bread_469.jpg', 'Spinach_298.jpg', 'Spinach_318.jpg', 'Potato_116.jpg', 'Bread_369.jpg', 'Milk_298.jpg', 'Bread_112.jpg', 'Spinach_339.jpg', 'Mixed_138.jpg', 'Tomato_75.jpg', 'Mixed_499.jpg', 'Milk_80.jpg', 'Milk_310.jpg', 'Tomato_149.jpg', 'Spinach_325.jpg', 'Eggs_19.jpg', 'Banana_9.jpg', 'Eggs_29.jpg', 'Eggs_219.jpg', 'Bread_96.jpg', 'Eggs_441.jpg', 'Mixed_243.jpg', 'Potato_54.jpg', 'Banana_420.jpg', 'Potato_417.jpg', 'Tomato_173.jpg', 'Eggs_422.jpg', 'Mixed_354.jpg', 'Eggs_460.jpg', 'Spinach_357.jpg', 'Mixed_144.jpg', 'Banana_421.jpg', 'Eggs_392.jpg', 'Banana_471.jpg', 'Eggs_485.jpg', 'Eggs_336.jpg', 'Mixed_333.jpg', 'Mixed_233.jpg', 'Banana_258.jpg', 'Tomato_321.jpg', 'Tomato_94.jpg', 'Potato_239.jpg', 'Potato_140.jpg', 'Eggs_175.jpg', 'Milk_45.jpg', 'Spinach_40.jpg', 'Potato_405.jpg', 'Eggs_345.jpg', 'Mixed_19.jpg', 'Milk_319.jpg', 'Banana_269.jpg', 'Tomato_210.jpg', 'Banana_37.jpg', 'Eggs_375.jpg', 'Mixed_248.jpg', 'Bread_175.jpg', 'Milk_183.jpg', 'Bread_357.jpg', 'Mixed_237.jpg', 'Milk_438.jpg', 'Eggs_357.jpg', 'Potato_145.jpg', 'Banana_7.jpg', 'Bread_317.jpg', 'Bread_78.jpg', 'Banana_253.jpg', 'Milk_375.jpg', 'Milk_488.jpg', 'Tomato_43.jpg', 'Mixed_301.jpg', 'Eggs_90.jpg', 'Potato_211.jpg', 'Tomato_82.jpg', 'Bread_241.jpg', 'Milk_355.jpg', 'Eggs_153.jpg', 'Potato_125.jpg', 'Banana_146.jpg', 'Banana_24.jpg', 'Eggs_188.jpg', 'Potato_452.jpg', 'Potato_384.jpg', 'Mixed_207.jpg', 'Mixed_66.jpg', 'Eggs_197.jpg', 'Milk_56.jpg', 'Potato_442.jpg', 'Spinach_262.jpg', 'Spinach_360.jpg', 'Potato_343.jpg', 'Eggs_77.jpg', 'Milk_309.jpg', 'Tomato_340.jpg', 'Eggs_340.jpg', 'Spinach_148.jpg', 'Eggs_374.jpg', 'Tomato_217.jpg', 'Potato_142.jpg', 'Tomato_490.jpg', 'Spinach_311.jpg', 'Bread_54.jpg', 'Eggs_137.jpg', 'Milk_354.jpg', 'Spinach_485.jpg', 'Tomato_462.jpg', 'Potato_21.jpg', 'Spinach_131.jpg', 'Milk_54.jpg', 'Eggs_190.jpg', 'Bread_52.jpg', 'Potato_393.jpg', 'Potato_75.jpg', 'Banana_282.jpg', 'Tomato_306.jpg', 'Spinach_279.jpg', 'Milk_459.jpg', 'Spinach_406.jpg', 'Milk_471.jpg', 'Bread_280.jpg', 'Milk_439.jpg', 'Spinach_39.jpg', 'Tomato_386.jpg', 'Potato_3.jpg', 'Milk_108.jpg', 'Tomato_284.jpg', 'Tomato_293.jpg', 'Spinach_442.jpg', 'Bread_57.jpg', 'Bread_353.jpg', 'Potato_312.jpg', 'Bread_150.jpg', 'Eggs_479.jpg', 'Spinach_99.jpg', 'Spinach_54.jpg', 'Tomato_466.jpg', 'Eggs_95.jpg', 'Tomato_156.jpg', 'Banana_165.jpg', 'Eggs_265.jpg', 'Banana_489.jpg', 'Spinach_274.jpg', 'Tomato_97.jpg', 'Spinach_153.jpg', 'Banana_296.jpg', 'Potato_366.jpg', 'Milk_322.jpg', 'Spinach_37.jpg', 'Mixed_35.jpg', 'Milk_125.jpg', 'Banana_217.jpg', 'Potato_380.jpg', 'Tomato_83.jpg', 'Tomato_212.jpg', 'Potato_457.jpg', 'Bread_56.jpg', 'Banana_247.jpg', 'Eggs_360.jpg', 'Potato_317.jpg', 'Mixed_143.jpg', 'Tomato_92.jpg', 'Mixed_382.jpg', 'Milk_227.jpg', 'Potato_167.jpg', 'Tomato_42.jpg', 'Mixed_497.jpg', 'Bread_139.jpg', 'Eggs_466.jpg', 'Bread_149.jpg', 'Potato_56.jpg', 'Milk_148.jpg', 'Bread_230.jpg', 'Banana_132.jpg', 'Banana_142.jpg', 'Tomato_318.jpg', 'Eggs_303.jpg', 'Eggs_140.jpg', 'Potato_418.jpg', 'Mixed_456.jpg', 'Tomato_345.jpg', 'Mixed_395.jpg', 'Eggs_431.jpg', 'Tomato_316.jpg', 'Milk_473.jpg', 'Mixed_335.jpg', 'Eggs_436.jpg', 'Eggs_76.jpg', 'Eggs_408.jpg', 'Potato_99.jpg', 'Mixed_450.jpg', 'Bread_166.jpg', 'Milk_321.jpg', 'Spinach_499.jpg', 'Banana_484.jpg', 'Bread_68.jpg', 'Bread_237.jpg', 'Eggs_132.jpg', 'Banana_123.jpg', 'Spinach_315.jpg', 'Eggs_270.jpg', 'Banana_94.jpg', 'Bread_18.jpg', 'Eggs_451.jpg', 'Eggs_39.jpg', 'Mixed_17.jpg', 'Banana_119.jpg', 'Eggs_487.jpg', 'Banana_210.jpg', 'Eggs_428.jpg', 'Eggs_367.jpg', 'Spinach_331.jpg', 'Spinach_265.jpg', 'Potato_115.jpg', 'Tomato_456.jpg', 'Bread_98.jpg', 'Bread_376.jpg', 'Spinach_327.jpg', 'Eggs_334.jpg', 'Eggs_187.jpg', 'Spinach_160.jpg', 'Tomato_54.jpg', 'Bread_406.jpg', 'Bread_244.jpg', 'Tomato_447.jpg', 'Mixed_368.jpg', 'Eggs_179.jpg', 'Banana_304.jpg', 'Mixed_306.jpg', 'Eggs_286.jpg', 'Potato_111.jpg', 'Potato_93.jpg', 'Spinach_435.jpg', 'Eggs_93.jpg', 'Bread_418.jpg', 'Eggs_438.jpg', 'Milk_311.jpg', 'Mixed_38.jpg', 'Bread_431.jpg', 'Mixed_424.jpg', 'Tomato_227.jpg', 'Tomato_46.jpg', 'Bread_69.jpg', 'Milk_160.jpg', 'Bread_482.jpg', 'Tomato_249.jpg', 'Banana_50.jpg', 'Banana_460.jpg', 'Spinach_214.jpg', 'Milk_324.jpg', 'Spinach_302.jpg', 'Spinach_421.jpg', 'Mixed_421.jpg', 'Tomato_117.jpg', 'Potato_433.jpg', 'Eggs_230.jpg', 'Banana_474.jpg', 'Mixed_2.jpg', 'Banana_83.jpg', 'Mixed_480.jpg', 'Eggs_108.jpg', 'Bread_156.jpg', 'Spinach_96.jpg', 'Milk_191.jpg', 'Bread_337.jpg', 'Potato_444.jpg', 'Eggs_322.jpg', 'Tomato_211.jpg', 'Bread_206.jpg', 'Potato_485.jpg', 'Eggs_232.jpg', 'Bread_129.jpg', 'Tomato_137.jpg', 'Spinach_113.jpg', 'Mixed_329.jpg', 'Mixed_295.jpg', 'Spinach_180.jpg', 'Mixed_273.jpg', 'Tomato_358.jpg', 'Milk_29.jpg', 'Milk_37.jpg', 'Eggs_94.jpg', 'Mixed_84.jpg', 'Bread_219.jpg', 'Eggs_130.jpg', 'Spinach_14.jpg', 'Milk_9.jpg', 'Bread_218.jpg', 'Potato_105.jpg', 'Spinach_403.jpg', 'Tomato_383.jpg', 'Milk_474.jpg', 'Banana_185.jpg', 'Tomato_243.jpg', 'Eggs_380.jpg', 'Spinach_288.jpg', 'Tomato_237.jpg', 'Banana_335.jpg', 'Tomato_239.jpg', 'Milk_180.jpg', 'Milk_204.jpg', 'Mixed_483.jpg', 'Tomato_29.jpg', 'Tomato_159.jpg', 'Bread_144.jpg', 'Banana_488.jpg', 'Potato_156.jpg', 'Mixed_269.jpg', 'Spinach_344.jpg', 'Eggs_391.jpg', 'Tomato_93.jpg', 'Milk_82.jpg', 'Spinach_143.jpg', 'Spinach_80.jpg', 'Bread_102.jpg', 'Banana_167.jpg', 'Tomato_201.jpg', 'Potato_76.jpg', 'Milk_451.jpg', 'Potato_331.jpg', 'Eggs_282.jpg', 'Bread_272.jpg', 'Eggs_244.jpg', 'Tomato_371.jpg', 'Spinach_123.jpg', 'Bread_67.jpg', 'Potato_459.jpg', 'Banana_319.jpg', 'Spinach_272.jpg', 'Milk_185.jpg', 'Spinach_184.jpg', 'Mixed_12.jpg', 'Banana_40.jpg', 'Bread_397.jpg', 'Tomato_124.jpg', 'Milk_314.jpg', 'Bread_128.jpg', 'Tomato_65.jpg', 'Milk_435.jpg', 'Tomato_192.jpg', 'Mixed_473.jpg', 'Bread_479.jpg', 'Spinach_284.jpg', 'Bread_341.jpg', 'Banana_463.jpg', 'Milk_141.jpg', 'Tomato_311.jpg', 'Banana_36.jpg', 'Potato_74.jpg', 'Banana_316.jpg', 'Potato_143.jpg', 'Bread_486.jpg', 'Banana_492.jpg', 'Tomato_375.jpg', 'Banana_155.jpg', 'Potato_322.jpg', 'Eggs_362.jpg', 'Banana_176.jpg', 'Tomato_204.jpg', 'Mixed_231.jpg', 'Milk_318.jpg', 'Bread_193.jpg', 'Potato_153.jpg', 'Milk_391.jpg', 'Banana_312.jpg', 'Tomato_184.jpg', 'Banana_178.jpg', 'Bread_160.jpg', 'Potato_475.jpg', 'Spinach_79.jpg', 'Bread_345.jpg', 'Bread_120.jpg', 'Mixed_255.jpg', 'Banana_22.jpg', 'Bread_93.jpg', 'Spinach_456.jpg', 'Milk_131.jpg', 'Spinach_299.jpg', 'Potato_381.jpg', 'Bread_182.jpg', 'Tomato_196.jpg', 'Eggs_442.jpg', 'Milk_130.jpg', 'Mixed_166.jpg', 'Tomato_154.jpg', 'Bread_422.jpg', 'Tomato_479.jpg', 'Bread_195.jpg', 'Bread_296.jpg', 'Spinach_392.jpg', 'Bread_340.jpg', 'Tomato_30.jpg', 'Milk_421.jpg', 'Bread_62.jpg', 'Mixed_332.jpg', 'Bread_131.jpg', 'Milk_287.jpg', 'Potato_438.jpg', 'Banana_136.jpg', 'Potato_428.jpg', 'Potato_160.jpg', 'Bread_290.jpg', 'Milk_226.jpg', 'Eggs_32.jpg', 'Tomato_352.jpg', 'Spinach_165.jpg', 'Eggs_189.jpg', 'Potato_38.jpg', 'Eggs_395.jpg', 'Tomato_283.jpg', 'Banana_457.jpg', 'Spinach_124.jpg', 'Spinach_297.jpg', 'Milk_376.jpg', 'Potato_262.jpg', 'Banana_184.jpg', 'Mixed_260.jpg', 'Spinach_202.jpg', 'Eggs_429.jpg', 'Spinach_381.jpg', 'Spinach_142.jpg', 'Mixed_336.jpg', 'Potato_175.jpg', 'Bread_167.jpg', 'Potato_440.jpg', 'Eggs_178.jpg', 'Mixed_102.jpg', 'Bread_268.jpg', 'Eggs_58.jpg', 'Bread_346.jpg', 'Banana_152.jpg', 'Banana_285.jpg', 'Bread_97.jpg', 'Bread_467.jpg', 'Mixed_105.jpg', 'Tomato_7.jpg', 'Eggs_51.jpg', 'Bread_269.jpg', 'Banana_261.jpg', 'Bread_217.jpg', 'Mixed_202.jpg', 'Milk_416.jpg', 'Tomato_66.jpg', 'Mixed_446.jpg', 'Spinach_330.jpg', 'Eggs_368.jpg', 'Bread_40.jpg', 'Spinach_174.jpg', 'Tomato_109.jpg', 'Banana_73.jpg', 'Milk_25.jpg', 'Tomato_178.jpg', 'Tomato_427.jpg', 'Milk_481.jpg', 'Milk_230.jpg', 'Mixed_288.jpg', 'Spinach_455.jpg', 'Banana_204.jpg', 'Potato_363.jpg', 'Mixed_287.jpg', 'Spinach_333.jpg', 'Banana_323.jpg', 'Bread_126.jpg', 'Eggs_493.jpg', 'Spinach_109.jpg', 'Potato_241.jpg', 'Banana_418.jpg', 'Eggs_25.jpg', 'Mixed_389.jpg', 'Bread_287.jpg', 'Potato_15.jpg', 'Tomato_335.jpg', 'Milk_87.jpg', 'Milk_244.jpg', 'Milk_237.jpg', 'Mixed_359.jpg', 'Bread_494.jpg', 'Bread_451.jpg', 'Milk_270.jpg', 'Milk_483.jpg', 'Banana_417.jpg', 'Mixed_119.jpg', 'Eggs_356.jpg', 'Eggs_92.jpg', 'Milk_301.jpg', 'Spinach_175.jpg', 'Tomato_299.jpg', 'Banana_271.jpg', 'Potato_42.jpg', 'Potato_324.jpg', 'Potato_415.jpg', 'Potato_201.jpg', 'Tomato_214.jpg', 'Spinach_416.jpg', 'Bread_259.jpg', 'Spinach_34.jpg', 'Banana_409.jpg', 'Eggs_427.jpg', 'Spinach_92.jpg', 'Bread_318.jpg', 'Spinach_407.jpg', 'Mixed_294.jpg', 'Milk_288.jpg', 'Spinach_8.jpg', 'Banana_315.jpg', 'Banana_118.jpg', 'Bread_347.jpg', 'Milk_207.jpg', 'Mixed_458.jpg', 'Mixed_387.jpg', 'Potato_79.jpg', 'Tomato_457.jpg', 'Tomato_199.jpg', 'Spinach_193.jpg', 'Spinach_112.jpg', 'Spinach_158.jpg', 'Potato_123.jpg', 'Potato_39.jpg', 'Milk_94.jpg', 'Mixed_399.jpg', 'Potato_34.jpg', 'Mixed_69.jpg', 'Spinach_283.jpg', 'Banana_300.jpg', 'Milk_146.jpg', 'Eggs_217.jpg', 'Milk_149.jpg', 'Mixed_388.jpg', 'Milk_239.jpg', 'Tomato_59.jpg', 'Bread_35.jpg', 'Milk_176.jpg', 'Eggs_260.jpg', 'Banana_446.jpg', 'Bread_58.jpg', 'Mixed_68.jpg', 'Spinach_484.jpg', 'Milk_192.jpg', 'Milk_405.jpg', 'Mixed_23.jpg', 'Eggs_3.jpg', 'Banana_57.jpg', 'Mixed_253.jpg', 'Bread_183.jpg', 'Mixed_420.jpg', 'Mixed_464.jpg', 'Tomato_104.jpg', 'Spinach_271.jpg', 'Milk_197.jpg', 'Spinach_132.jpg', 'Spinach_107.jpg', 'Bread_80.jpg', 'Tomato_206.jpg', 'Milk_89.jpg', 'Tomato_138.jpg', 'Banana_231.jpg', 'Bread_324.jpg', 'Potato_247.jpg', 'Bread_240.jpg', 'Milk_327.jpg', 'Potato_427.jpg', 'Bread_250.jpg', 'Milk_58.jpg', 'Bread_77.jpg', 'Mixed_0.jpg', 'Banana_351.jpg', 'Potato_288.jpg', 'Spinach_263.jpg', 'Potato_297.jpg', 'Eggs_483.jpg', 'Milk_114.jpg', 'Bread_461.jpg', 'Tomato_13.jpg', 'Bread_99.jpg', 'Eggs_268.jpg', 'Mixed_324.jpg', 'Banana_459.jpg', 'Bread_42.jpg', 'Spinach_275.jpg', 'Milk_2.jpg', 'Tomato_153.jpg', 'Potato_454.jpg', 'Eggs_192.jpg', 'Spinach_3.jpg', 'Eggs_33.jpg', 'Potato_495.jpg', 'Potato_304.jpg', 'Tomato_115.jpg', 'Mixed_25.jpg', 'Tomato_134.jpg', 'Milk_493.jpg', 'Mixed_425.jpg', 'Potato_53.jpg', 'Potato_391.jpg', 'Spinach_78.jpg', 'Banana_477.jpg', 'Eggs_176.jpg', 'Potato_27.jpg', 'Mixed_356.jpg', 'Banana_341.jpg', 'Milk_402.jpg', 'Bread_310.jpg', 'Bread_447.jpg', 'Banana_55.jpg', 'Spinach_314.jpg', 'Bread_375.jpg', 'Bread_92.jpg', 'Tomato_396.jpg', 'Potato_473.jpg', 'Banana_78.jpg', 'Banana_322.jpg', 'Spinach_209.jpg', 'Mixed_49.jpg', 'Milk_332.jpg', 'Tomato_333.jpg', 'Potato_52.jpg', 'Milk_406.jpg', 'Banana_394.jpg', 'Eggs_351.jpg', 'Tomato_50.jpg', 'Spinach_244.jpg', 'Spinach_177.jpg', 'Milk_468.jpg', 'Eggs_292.jpg', 'Spinach_51.jpg', 'Banana_68.jpg', 'Milk_59.jpg', 'Spinach_56.jpg', 'Mixed_18.jpg', 'Banana_65.jpg', 'Eggs_27.jpg', 'Potato_480.jpg', 'Milk_198.jpg', 'Mixed_357.jpg', 'Milk_19.jpg', 'Milk_259.jpg', 'Milk_334.jpg', 'Mixed_115.jpg', 'Milk_484.jpg', 'Milk_34.jpg', 'Potato_460.jpg', 'Eggs_491.jpg', 'Tomato_230.jpg', 'Bread_443.jpg', 'Tomato_144.jpg', 'Bread_320.jpg', 'Potato_48.jpg', 'Mixed_85.jpg', 'Bread_267.jpg', 'Spinach_491.jpg', 'Tomato_491.jpg', 'Spinach_50.jpg', 'Mixed_476.jpg', 'Potato_267.jpg', 'Bread_114.jpg', 'Spinach_198.jpg', 'Spinach_204.jpg', 'Banana_435.jpg', 'Milk_447.jpg', 'Spinach_286.jpg', 'Potato_213.jpg', 'Eggs_371.jpg', 'Banana_329.jpg', 'Mixed_347.jpg', 'Milk_138.jpg', 'Potato_126.jpg', 'Spinach_77.jpg', 'Milk_467.jpg', 'Mixed_285.jpg', 'Milk_341.jpg', 'Mixed_104.jpg', 'Milk_201.jpg', 'Tomato_205.jpg', 'Milk_111.jpg', 'Tomato_402.jpg', 'Spinach_460.jpg', 'Banana_163.jpg', 'Milk_392.jpg', 'Milk_381.jpg', 'Mixed_398.jpg', 'Banana_239.jpg', 'Banana_56.jpg', 'Banana_340.jpg', 'Spinach_69.jpg', 'Bread_434.jpg', 'Mixed_419.jpg', 'Spinach_125.jpg', 'Eggs_205.jpg', 'Bread_161.jpg', 'Banana_277.jpg', 'Eggs_170.jpg', 'Eggs_486.jpg', 'Tomato_25.jpg', 'Milk_269.jpg', 'Potato_493.jpg', 'Bread_383.jpg', 'Bread_498.jpg', 'Banana_60.jpg', 'Tomato_15.jpg', 'Tomato_432.jpg', 'Tomato_430.jpg', 'Banana_284.jpg', 'Potato_60.jpg', 'Banana_332.jpg', 'Bread_391.jpg', 'Eggs_387.jpg', 'Eggs_78.jpg', 'Milk_70.jpg', 'Potato_191.jpg', 'Mixed_413.jpg', 'Banana_318.jpg', 'Bread_370.jpg', 'Milk_241.jpg', 'Eggs_342.jpg', 'Bread_262.jpg', 'Milk_291.jpg', 'Bread_308.jpg', 'Potato_128.jpg', 'Potato_237.jpg', 'Tomato_314.jpg', 'Mixed_494.jpg', 'Eggs_335.jpg', 'Spinach_11.jpg', 'Spinach_493.jpg', 'Milk_386.jpg', 'Mixed_9.jpg', 'Potato_329.jpg', 'Milk_190.jpg', 'Banana_423.jpg', 'Banana_110.jpg', 'Banana_270.jpg', 'Spinach_219.jpg', 'Tomato_425.jpg', 'Eggs_484.jpg', 'Potato_456.jpg', 'Banana_438.jpg', 'Mixed_111.jpg', 'Milk_482.jpg', 'Potato_321.jpg', 'Mixed_148.jpg', 'Milk_385.jpg', 'Eggs_245.jpg', 'Bread_176.jpg', 'Potato_94.jpg', 'Banana_479.jpg', 'Banana_370.jpg', 'Mixed_461.jpg', 'Bread_419.jpg', 'Tomato_34.jpg', 'Banana_170.jpg', 'Eggs_272.jpg', 'Tomato_356.jpg', 'Potato_386.jpg', 'Milk_412.jpg', 'Spinach_111.jpg', 'Bread_202.jpg', 'Mixed_361.jpg', 'Mixed_54.jpg', 'Banana_430.jpg', 'Spinach_270.jpg', 'Potato_447.jpg', 'Spinach_247.jpg', 'Banana_145.jpg', 'Milk_90.jpg', 'Bread_472.jpg', 'Mixed_29.jpg', 'Eggs_477.jpg', 'Mixed_349.jpg', 'Spinach_432.jpg', 'Eggs_216.jpg', 'Bread_229.jpg', 'Banana_67.jpg', 'Milk_181.jpg', 'Mixed_481.jpg', 'Potato_263.jpg', 'Banana_2.jpg', 'Bread_32.jpg', 'Eggs_102.jpg', 'Tomato_99.jpg', 'Bread_455.jpg', 'Banana_4.jpg', 'Bread_107.jpg', 'Potato_230.jpg', 'Tomato_426.jpg', 'Banana_369.jpg', 'Banana_331.jpg', 'Milk_399.jpg', 'Banana_343.jpg', 'Milk_378.jpg', 'Milk_74.jpg', 'Banana_297.jpg', 'Spinach_324.jpg', 'Potato_368.jpg', 'Milk_250.jpg', 'Banana_395.jpg', 'Bread_36.jpg', 'Banana_225.jpg', 'Potato_203.jpg', 'Mixed_26.jpg', 'Tomato_101.jpg', 'Eggs_446.jpg', 'Mixed_93.jpg', 'Milk_413.jpg', 'Bread_199.jpg', 'Milk_196.jpg', 'Banana_272.jpg', 'Bread_384.jpg', 'Spinach_308.jpg', 'Spinach_307.jpg', 'Spinach_431.jpg', 'Tomato_278.jpg', 'Potato_425.jpg', 'Banana_156.jpg', 'Milk_109.jpg', 'Milk_362.jpg', 'Spinach_149.jpg', 'Banana_267.jpg', 'Milk_243.jpg', 'Spinach_295.jpg', 'Eggs_284.jpg', 'Mixed_110.jpg', 'Tomato_244.jpg', 'Milk_266.jpg', 'Milk_248.jpg', 'Mixed_45.jpg', 'Mixed_32.jpg', 'Tomato_269.jpg', 'Banana_404.jpg', 'Spinach_59.jpg', 'Mixed_225.jpg', 'Mixed_230.jpg', 'Tomato_387.jpg', 'Tomato_395.jpg', 'Bread_496.jpg', 'Spinach_152.jpg', 'Tomato_483.jpg', 'Spinach_269.jpg', 'Eggs_324.jpg', 'Tomato_341.jpg', 'Milk_395.jpg', 'Milk_423.jpg', 'Banana_279.jpg', 'Milk_71.jpg', 'Bread_17.jpg', 'Bread_260.jpg', 'Banana_233.jpg', 'Mixed_154.jpg', 'Mixed_279.jpg', 'Mixed_175.jpg', 'Banana_455.jpg', 'Spinach_164.jpg', 'Banana_358.jpg', 'Tomato_170.jpg', 'Milk_61.jpg', 'Potato_29.jpg', 'Bread_442.jpg', 'Banana_314.jpg', 'Mixed_346.jpg', 'Milk_350.jpg', 'Spinach_328.jpg', 'Potato_468.jpg', 'Banana_393.jpg', 'Eggs_209.jpg', 'Tomato_38.jpg', 'Milk_133.jpg', 'Potato_17.jpg', 'Spinach_162.jpg', 'Mixed_340.jpg', 'Spinach_110.jpg', 'Spinach_496.jpg', 'Milk_262.jpg', 'Tomato_471.jpg', 'Mixed_489.jpg', 'Spinach_475.jpg', 'Eggs_167.jpg', 'Milk_77.jpg', 'Banana_96.jpg', 'Bread_410.jpg', 'Mixed_392.jpg', 'Spinach_10.jpg', 'Eggs_5.jpg', 'Mixed_364.jpg', 'Milk_339.jpg', 'Bread_489.jpg', 'Milk_66.jpg', 'Mixed_210.jpg', 'Spinach_41.jpg', 'Mixed_323.jpg', 'Eggs_181.jpg', 'Mixed_281.jpg', 'Eggs_432.jpg', 'Bread_53.jpg', 'Banana_387.jpg', 'Spinach_495.jpg', 'Potato_390.jpg', 'Potato_90.jpg', 'Bread_319.jpg', 'Bread_304.jpg', 'Bread_177.jpg', 'Bread_133.jpg', 'Banana_499.jpg', 'Banana_31.jpg', 'Eggs_468.jpg', 'Bread_299.jpg', 'Bread_265.jpg', 'Potato_214.jpg', 'Spinach_411.jpg', 'Banana_432.jpg', 'Eggs_99.jpg', 'Potato_272.jpg', 'Eggs_64.jpg', 'Eggs_4.jpg', 'Mixed_190.jpg', 'Bread_334.jpg', 'Tomato_482.jpg', 'Mixed_245.jpg', 'Eggs_313.jpg', 'Milk_47.jpg', 'Tomato_354.jpg', 'Mixed_118.jpg', 'Tomato_32.jpg', 'Eggs_348.jpg', 'Tomato_167.jpg', 'Bread_312.jpg', 'Potato_96.jpg', 'Eggs_119.jpg', 'Bread_101.jpg', 'Potato_200.jpg', 'Bread_83.jpg', 'Milk_136.jpg', 'Spinach_32.jpg', 'Spinach_102.jpg', 'Eggs_68.jpg', 'Milk_320.jpg', 'Mixed_317.jpg', 'Milk_296.jpg', 'Potato_279.jpg', 'Milk_273.jpg', 'Milk_120.jpg', 'Tomato_262.jpg', 'Potato_109.jpg', 'Spinach_192.jpg', 'Bread_113.jpg', 'Potato_253.jpg', 'Eggs_267.jpg', 'Banana_121.jpg', 'Banana_215.jpg', 'Mixed_327.jpg', 'Potato_385.jpg', 'Mixed_113.jpg', 'Tomato_487.jpg', 'Milk_343.jpg', 'Milk_147.jpg', 'Mixed_163.jpg', 'Milk_23.jpg', 'Bread_273.jpg', 'Spinach_309.jpg', 'Banana_221.jpg', 'Eggs_241.jpg', 'Bread_352.jpg', 'Potato_189.jpg', 'Tomato_102.jpg', 'Bread_86.jpg', 'Potato_492.jpg', 'Spinach_349.jpg', 'Tomato_465.jpg', 'Bread_203.jpg', 'Tomato_377.jpg', 'Eggs_425.jpg', 'Tomato_350.jpg', 'Mixed_495.jpg', 'Mixed_162.jpg', 'Spinach_267.jpg', 'Mixed_374.jpg', 'Eggs_327.jpg', 'Banana_116.jpg', 'Eggs_347.jpg', 'Potato_299.jpg', 'Mixed_98.jpg', 'Potato_371.jpg', 'Potato_150.jpg', 'Mixed_438.jpg', 'Mixed_51.jpg', 'Milk_390.jpg', 'Bread_402.jpg', 'Banana_164.jpg', 'Mixed_429.jpg', 'Tomato_254.jpg', 'Bread_220.jpg', 'Spinach_488.jpg', 'Eggs_185.jpg', 'Potato_51.jpg', 'Milk_450.jpg', 'Mixed_284.jpg', 'Bread_205.jpg', 'Banana_86.jpg', 'Banana_442.jpg', 'Spinach_88.jpg', 'Mixed_297.jpg', 'Spinach_397.jpg', 'Eggs_333.jpg', 'Milk_253.jpg', 'Potato_494.jpg', 'Potato_121.jpg', 'Spinach_482.jpg', 'Mixed_454.jpg', 'Bread_15.jpg', 'Potato_236.jpg', 'Tomato_145.jpg', 'Spinach_235.jpg', 'Potato_0.jpg', 'Tomato_171.jpg', 'Potato_260.jpg', 'Spinach_63.jpg', 'Tomato_202.jpg', 'Potato_369.jpg', 'Mixed_403.jpg', 'Spinach_335.jpg', 'Banana_151.jpg', 'Potato_327.jpg', 'Spinach_230.jpg', 'Banana_321.jpg', 'Tomato_76.jpg', 'Bread_371.jpg', 'Spinach_294.jpg', 'Tomato_469.jpg', 'Eggs_31.jpg', 'Tomato_225.jpg', 'Potato_101.jpg', 'Eggs_455.jpg', 'Banana_465.jpg', 'Bread_374.jpg', 'Banana_274.jpg', 'Milk_272.jpg', 'Milk_84.jpg', 'Bread_91.jpg', 'Mixed_479.jpg', 'Eggs_35.jpg', 'Bread_365.jpg', 'Mixed_437.jpg', 'Spinach_438.jpg', 'Tomato_434.jpg', 'Tomato_459.jpg', 'Mixed_367.jpg', 'Mixed_319.jpg', 'Tomato_63.jpg', 'Mixed_490.jpg', 'Eggs_166.jpg', 'Spinach_100.jpg', 'Bread_275.jpg', 'Spinach_316.jpg', 'Banana_402.jpg', 'Potato_446.jpg', 'Eggs_390.jpg', 'Eggs_294.jpg', 'Banana_102.jpg', 'Potato_91.jpg', 'Eggs_381.jpg', 'Mixed_298.jpg', 'Eggs_23.jpg', 'Bread_235.jpg', 'Banana_161.jpg', 'Bread_243.jpg', 'Eggs_401.jpg', 'Spinach_46.jpg', 'Eggs_243.jpg', 'Bread_79.jpg', 'Potato_313.jpg', 'Eggs_44.jpg', 'Mixed_300.jpg', 'Mixed_348.jpg', 'Mixed_486.jpg', 'Spinach_21.jpg', 'Tomato_308.jpg', 'Spinach_405.jpg', 'Spinach_249.jpg', 'Potato_441.jpg', 'Potato_25.jpg', 'Bread_246.jpg', 'Mixed_61.jpg', 'Banana_47.jpg', 'Potato_202.jpg', 'Banana_433.jpg', 'Tomato_428.jpg', 'Banana_171.jpg', 'Tomato_260.jpg', 'Mixed_50.jpg', 'Milk_470.jpg', 'Potato_484.jpg', 'Bread_450.jpg', 'Spinach_480.jpg', 'Spinach_197.jpg', 'Eggs_263.jpg', 'Banana_1.jpg', 'Banana_384.jpg', 'Potato_256.jpg', 'Spinach_81.jpg', 'Eggs_37.jpg', 'Eggs_56.jpg', 'Bread_31.jpg', 'Banana_373.jpg', 'Eggs_2.jpg', 'Potato_9.jpg', 'Mixed_196.jpg', 'Mixed_434.jpg', 'Eggs_70.jpg', 'Mixed_14.jpg', 'Eggs_213.jpg', 'Bread_270.jpg', 'Bread_73.jpg', 'Potato_453.jpg', 'Spinach_136.jpg', 'Tomato_11.jpg', 'Spinach_126.jpg', 'Potato_77.jpg', 'Bread_393.jpg', 'Eggs_43.jpg', 'Potato_316.jpg', 'Bread_464.jpg', 'Banana_114.jpg', 'Eggs_396.jpg', 'Potato_13.jpg', 'Spinach_430.jpg', 'Potato_342.jpg', 'Mixed_449.jpg', 'Potato_394.jpg', 'Mixed_191.jpg', 'Eggs_169.jpg', 'Banana_349.jpg', 'Mixed_139.jpg', 'Potato_165.jpg', 'Potato_85.jpg', 'Milk_208.jpg', 'Spinach_487.jpg', 'Eggs_211.jpg', 'Mixed_53.jpg', 'Eggs_71.jpg', 'Spinach_355.jpg', 'Spinach_373.jpg', 'Eggs_55.jpg', 'Bread_408.jpg', 'Tomato_61.jpg', 'Tomato_98.jpg', 'Eggs_470.jpg', 'Bread_468.jpg', 'Potato_172.jpg', 'Eggs_235.jpg', 'Spinach_400.jpg', 'Milk_224.jpg', 'Mixed_307.jpg', 'Milk_429.jpg', 'Mixed_229.jpg', 'Mixed_467.jpg', 'Potato_221.jpg', 'Milk_75.jpg', 'Potato_291.jpg', 'Potato_97.jpg', 'Milk_210.jpg', 'Banana_212.jpg', 'Mixed_137.jpg', 'Banana_46.jpg', 'Bread_100.jpg', 'Bread_231.jpg', 'Potato_401.jpg', 'Eggs_329.jpg', 'Bread_487.jpg', 'Potato_437.jpg', 'Banana_203.jpg', 'Bread_223.jpg', 'Spinach_393.jpg', 'Potato_289.jpg', 'Spinach_458.jpg', 'Tomato_330.jpg', 'Eggs_299.jpg', 'Banana_134.jpg', 'Tomato_2.jpg', 'Eggs_57.jpg', 'Potato_81.jpg', 'Milk_366.jpg', 'Mixed_267.jpg', 'Milk_325.jpg', 'Spinach_498.jpg', 'Mixed_161.jpg', 'Potato_254.jpg', 'Banana_399.jpg', 'Bread_210.jpg', 'Tomato_246.jpg', 'Potato_22.jpg', 'Eggs_61.jpg', 'Banana_195.jpg', 'Potato_443.jpg', 'Eggs_249.jpg', 'Spinach_418.jpg', 'Eggs_109.jpg', 'Bread_339.jpg', 'Banana_345.jpg', 'Potato_83.jpg', 'Potato_68.jpg', 'Milk_172.jpg', 'Mixed_249.jpg', 'Milk_21.jpg', 'Potato_292.jpg', 'Milk_496.jpg', 'Banana_445.jpg', 'Milk_377.jpg', 'Bread_30.jpg', 'Milk_307.jpg', 'Eggs_266.jpg', 'Potato_491.jpg', 'Potato_157.jpg', 'Banana_166.jpg', 'Tomato_397.jpg', 'Mixed_465.jpg', 'Bread_363.jpg', 'Tomato_57.jpg', 'Bread_336.jpg', 'Tomato_122.jpg', 'Potato_180.jpg', 'Banana_198.jpg', 'Banana_346.jpg', 'Mixed_149.jpg', 'Milk_1.jpg', 'Mixed_290.jpg', 'Spinach_117.jpg', 'Potato_352.jpg', 'Bread_285.jpg', 'Spinach_212.jpg', 'Bread_141.jpg', 'Tomato_440.jpg', 'Bread_172.jpg', 'Spinach_375.jpg', 'Eggs_412.jpg', 'Spinach_28.jpg', 'Potato_335.jpg', 'Mixed_482.jpg', 'Spinach_144.jpg', 'Potato_434.jpg', 'Mixed_442.jpg', 'Bread_16.jpg', 'Mixed_199.jpg', 'Mixed_70.jpg', 'Spinach_260.jpg', 'Mixed_491.jpg', 'Milk_465.jpg', 'Spinach_128.jpg', 'Spinach_75.jpg', 'Potato_398.jpg', 'Milk_159.jpg', 'Tomato_252.jpg', 'Potato_106.jpg', 'Bread_190.jpg', 'Spinach_304.jpg', 'Banana_30.jpg', 'Spinach_47.jpg', 'Eggs_370.jpg', 'Tomato_232.jpg', 'Potato_59.jpg', 'Tomato_422.jpg', 'Spinach_141.jpg', 'Bread_495.jpg', 'Potato_196.jpg', 'Potato_47.jpg', 'Tomato_336.jpg', 'Spinach_16.jpg', 'Mixed_63.jpg', 'Eggs_145.jpg', 'Milk_388.jpg', 'Bread_194.jpg', 'Eggs_350.jpg', 'Bread_360.jpg', 'Potato_436.jpg', 'Banana_326.jpg', 'Bread_497.jpg', 'Tomato_234.jpg', 'Eggs_271.jpg', 'Banana_74.jpg', 'Banana_183.jpg', 'Eggs_298.jpg', 'Potato_98.jpg', 'Eggs_415.jpg', 'Bread_261.jpg', 'Eggs_59.jpg', 'Milk_12.jpg', 'Spinach_170.jpg', 'Potato_64.jpg', 'Spinach_391.jpg', 'Spinach_388.jpg', 'Mixed_246.jpg', 'Tomato_180.jpg', 'Banana_352.jpg', 'Bread_356.jpg', 'Spinach_454.jpg', 'Milk_422.jpg', 'Tomato_272.jpg', 'Spinach_313.jpg', 'Mixed_130.jpg', 'Banana_227.jpg', 'Spinach_374.jpg', 'Eggs_448.jpg', 'Bread_387.jpg', 'Potato_207.jpg', 'Bread_416.jpg', 'Milk_124.jpg', 'Spinach_185.jpg', 'Milk_260.jpg', 'Milk_280.jpg', 'Banana_347.jpg', 'Spinach_468.jpg', 'Potato_11.jpg', 'Mixed_219.jpg', 'Tomato_186.jpg', 'Tomato_261.jpg', 'Tomato_110.jpg', 'Spinach_25.jpg', 'Spinach_43.jpg', 'Mixed_212.jpg', 'Tomato_405.jpg', 'Banana_196.jpg', 'Tomato_148.jpg', 'Tomato_473.jpg', 'Potato_478.jpg', 'Banana_147.jpg', 'Tomato_342.jpg', 'Spinach_443.jpg', 'Mixed_164.jpg', 'Mixed_303.jpg', 'Banana_276.jpg', 'Tomato_277.jpg', 'Tomato_367.jpg', 'Potato_138.jpg', 'Eggs_316.jpg', 'Spinach_105.jpg', 'Bread_27.jpg', 'Banana_105.jpg', 'Tomato_10.jpg', 'Bread_413.jpg', 'Bread_490.jpg', 'Bread_95.jpg', 'Potato_337.jpg', 'Banana_232.jpg', 'Banana_412.jpg', 'Eggs_199.jpg', 'Milk_126.jpg', 'Banana_180.jpg', 'Milk_217.jpg', 'Tomato_147.jpg', 'Milk_352.jpg', 'Mixed_372.jpg', 'Mixed_223.jpg', 'Bread_119.jpg', 'Spinach_423.jpg', 'Tomato_376.jpg', 'Bread_314.jpg', 'Banana_243.jpg', 'Bread_140.jpg', 'Potato_209.jpg', 'Eggs_154.jpg', 'Milk_14.jpg', 'Mixed_261.jpg', 'Tomato_312.jpg', 'Tomato_450.jpg', 'Bread_146.jpg', 'Potato_387.jpg', 'Potato_411.jpg', 'Eggs_394.jpg', 'Mixed_376.jpg', 'Potato_170.jpg', 'Spinach_91.jpg', 'Eggs_111.jpg', 'Milk_246.jpg', 'Mixed_100.jpg', 'Eggs_118.jpg', 'Banana_92.jpg', 'Milk_275.jpg', 'Tomato_3.jpg', 'Mixed_270.jpg', 'Eggs_319.jpg', 'Milk_297.jpg', 'Tomato_152.jpg', 'Spinach_361.jpg', 'Potato_350.jpg', 'Banana_124.jpg', 'Bread_303.jpg', 'Banana_407.jpg', 'Banana_128.jpg', 'Mixed_4.jpg', 'Milk_463.jpg', 'Banana_111.jpg', 'Milk_252.jpg', 'Potato_112.jpg', 'Eggs_318.jpg', 'Spinach_241.jpg', 'Eggs_200.jpg', 'Spinach_216.jpg', 'Milk_434.jpg', 'Banana_440.jpg', 'Mixed_422.jpg', 'Banana_137.jpg', 'Potato_84.jpg', 'Bread_148.jpg', 'Milk_48.jpg', 'Tomato_436.jpg', 'Milk_372.jpg', 'Tomato_1.jpg', 'Spinach_351.jpg', 'Mixed_339.jpg', 'Eggs_82.jpg', 'Banana_88.jpg', 'Tomato_181.jpg', 'Potato_406.jpg', 'Milk_142.jpg', 'Milk_374.jpg', 'Tomato_169.jpg', 'Milk_155.jpg', 'Mixed_6.jpg', 'Tomato_453.jpg', 'Eggs_112.jpg', 'Spinach_147.jpg', 'Potato_355.jpg', 'Mixed_179.jpg', 'Mixed_330.jpg', 'Bread_115.jpg', 'Bread_38.jpg', 'Banana_157.jpg', 'Mixed_71.jpg', 'Eggs_133.jpg', 'Spinach_240.jpg', 'Banana_453.jpg', 'Milk_123.jpg', 'Mixed_155.jpg', 'Banana_197.jpg', 'Milk_168.jpg', 'Spinach_194.jpg', 'Milk_93.jpg', 'Mixed_203.jpg', 'Potato_357.jpg', 'Banana_386.jpg', 'Spinach_426.jpg', 'Eggs_113.jpg', 'Banana_95.jpg', 'Tomato_328.jpg', 'Milk_238.jpg', 'Spinach_234.jpg', 'Mixed_236.jpg', 'Potato_258.jpg', 'Tomato_91.jpg', 'Mixed_394.jpg', 'Banana_39.jpg', 'Tomato_49.jpg', 'Mixed_337.jpg', 'Milk_480.jpg', 'Mixed_466.jpg', 'Mixed_206.jpg', 'Mixed_213.jpg', 'Bread_185.jpg', 'Bread_298.jpg', 'Spinach_273.jpg', 'Milk_64.jpg', 'Milk_331.jpg', 'Eggs_406.jpg', 'Banana_160.jpg', 'Spinach_253.jpg', 'Potato_184.jpg', 'Potato_114.jpg', 'Mixed_373.jpg', 'Bread_463.jpg', 'Banana_398.jpg', 'Bread_445.jpg', 'Spinach_225.jpg', 'Mixed_485.jpg', 'Mixed_487.jpg', 'Bread_72.jpg', 'Mixed_150.jpg', 'Tomato_320.jpg', 'Bread_364.jpg', 'Milk_186.jpg', 'Eggs_344.jpg', 'Mixed_341.jpg', 'Tomato_73.jpg', 'Tomato_112.jpg', 'Mixed_265.jpg', 'Spinach_321.jpg', 'Mixed_57.jpg', 'Tomato_373.jpg', 'Banana_481.jpg', 'Spinach_362.jpg', 'Banana_235.jpg', 'Mixed_40.jpg', 'Banana_344.jpg', 'Potato_118.jpg', 'Eggs_326.jpg', 'Milk_211.jpg', 'Potato_251.jpg', 'Mixed_90.jpg', 'Banana_100.jpg', 'Bread_51.jpg', 'Mixed_406.jpg', 'Mixed_188.jpg', 'Potato_149.jpg', 'Tomato_388.jpg', 'Banana_336.jpg', 'Mixed_447.jpg', 'Bread_335.jpg', 'Tomato_366.jpg', 'Eggs_461.jpg', 'Mixed_460.jpg', 'Milk_417.jpg', 'Bread_427.jpg', 'Eggs_107.jpg', 'Eggs_337.jpg', 'Tomato_288.jpg', 'Spinach_223.jpg', 'Tomato_291.jpg', 'Banana_138.jpg', 'Bread_138.jpg', 'Spinach_380.jpg', 'Potato_137.jpg', 'Tomato_290.jpg', 'Tomato_374.jpg', 'Mixed_133.jpg', 'Spinach_346.jpg', 'Milk_213.jpg', 'Spinach_9.jpg', 'Spinach_228.jpg', 'Bread_380.jpg', 'Milk_335.jpg', 'Potato_244.jpg', 'Bread_362.jpg', 'Bread_466.jpg', 'Bread_355.jpg', 'Mixed_8.jpg', 'Spinach_364.jpg', 'Bread_1.jpg', 'Eggs_225.jpg', 'Potato_80.jpg', 'Tomato_40.jpg', 'Tomato_295.jpg', 'Spinach_155.jpg', 'Spinach_87.jpg', 'Milk_173.jpg', 'Milk_157.jpg', 'Bread_29.jpg', 'Eggs_54.jpg', 'Eggs_287.jpg', 'Spinach_24.jpg', 'Bread_65.jpg', 'Banana_79.jpg', 'Banana_159.jpg', 'Potato_108.jpg', 'Potato_474.jpg', 'Tomato_298.jpg', 'Tomato_274.jpg', 'Eggs_125.jpg', 'Banana_426.jpg', 'Potato_426.jpg', 'Eggs_293.jpg', 'Banana_494.jpg', 'Eggs_30.jpg', 'Bread_50.jpg', 'Tomato_188.jpg', 'Bread_264.jpg', 'Mixed_157.jpg', 'Eggs_420.jpg', 'Eggs_495.jpg', 'Milk_409.jpg', 'Tomato_468.jpg', 'Bread_81.jpg', 'Bread_110.jpg', 'Tomato_130.jpg', 'Eggs_206.jpg', 'Spinach_285.jpg', 'Banana_337.jpg', 'Eggs_447.jpg', 'Milk_240.jpg', 'Spinach_67.jpg', 'Bread_332.jpg', 'Spinach_451.jpg', 'Tomato_381.jpg', 'Bread_61.jpg', 'Spinach_379.jpg', 'Milk_498.jpg', 'Eggs_96.jpg', 'Potato_268.jpg', 'Eggs_365.jpg', 'Bread_2.jpg', 'Spinach_45.jpg', 'Bread_228.jpg', 'Potato_198.jpg', 'Spinach_83.jpg', 'Milk_219.jpg', 'Eggs_101.jpg', 'Mixed_158.jpg', 'Tomato_370.jpg', 'Milk_140.jpg', 'Bread_396.jpg', 'Eggs_72.jpg', 'Tomato_68.jpg', 'Bread_295.jpg', 'Milk_46.jpg', 'Spinach_52.jpg', 'Bread_462.jpg', 'Eggs_489.jpg', 'Mixed_76.jpg', 'Spinach_73.jpg', 'Milk_347.jpg', 'Bread_302.jpg', 'Milk_389.jpg', 'Eggs_165.jpg', 'Milk_256.jpg', 'Tomato_190.jpg', 'Eggs_276.jpg', 'Milk_247.jpg', 'Bread_248.jpg', 'Spinach_116.jpg', 'Spinach_437.jpg', 'Spinach_20.jpg', 'Potato_330.jpg', 'Spinach_186.jpg', 'Milk_460.jpg', 'Eggs_18.jpg', 'Bread_239.jpg', 'Spinach_176.jpg', 'Potato_227.jpg', 'Bread_432.jpg', 'Spinach_22.jpg', 'Potato_296.jpg', 'Milk_396.jpg', 'Tomato_319.jpg', 'Eggs_220.jpg', 'Spinach_53.jpg', 'Potato_354.jpg', 'Potato_70.jpg', 'Banana_490.jpg', 'Bread_409.jpg', 'Spinach_163.jpg', 'Banana_428.jpg', 'Tomato_417.jpg', 'Bread_271.jpg', 'Milk_115.jpg', 'Eggs_214.jpg', 'Bread_181.jpg', 'Tomato_90.jpg', 'Mixed_322.jpg', 'Tomato_334.jpg', 'Eggs_149.jpg', 'Bread_33.jpg', 'Banana_275.jpg', 'Spinach_130.jpg', 'Eggs_474.jpg', 'Spinach_236.jpg', 'Potato_379.jpg', 'Eggs_26.jpg', 'Potato_285.jpg', 'Eggs_143.jpg', 'Mixed_276.jpg', 'Spinach_226.jpg', 'Mixed_75.jpg', 'Mixed_440.jpg', 'Milk_285.jpg', 'Tomato_0.jpg', 'Bread_403.jpg', 'Eggs_402.jpg', 'Banana_470.jpg', 'Mixed_224.jpg', 'Tomato_8.jpg', 'Tomato_74.jpg', 'Bread_165.jpg', 'Milk_369.jpg', 'Potato_199.jpg', 'Eggs_186.jpg', 'Bread_372.jpg', 'Eggs_218.jpg', 'Spinach_210.jpg', 'Eggs_151.jpg', 'Banana_294.jpg', 'Potato_141.jpg', 'Banana_493.jpg', 'Mixed_195.jpg', 'Potato_179.jpg', 'Tomato_264.jpg', 'Spinach_15.jpg', 'Milk_41.jpg', 'Eggs_490.jpg', 'Spinach_42.jpg', 'Mixed_463.jpg', 'Potato_124.jpg', 'Eggs_321.jpg', 'Mixed_433.jpg', 'Banana_328.jpg', 'Milk_340.jpg', 'Tomato_458.jpg', 'Mixed_151.jpg', 'Tomato_189.jpg', 'Potato_374.jpg', 'Mixed_176.jpg', 'Banana_305.jpg', 'Milk_195.jpg', 'Eggs_256.jpg', 'Eggs_437.jpg', 'Bread_11.jpg', 'Eggs_283.jpg', 'Tomato_235.jpg', 'Spinach_256.jpg', 'Mixed_262.jpg', 'Spinach_390.jpg', 'Spinach_326.jpg', 'Mixed_91.jpg', 'Tomato_305.jpg', 'Milk_344.jpg', 'Milk_384.jpg', 'Milk_400.jpg', 'Banana_408.jpg', 'Milk_432.jpg', 'Tomato_71.jpg', 'Mixed_400.jpg', 'Tomato_56.jpg', 'Eggs_338.jpg', 'Bread_66.jpg', 'Tomato_301.jpg', 'Banana_487.jpg', 'Milk_403.jpg', 'Tomato_359.jpg', 'Banana_491.jpg', 'Potato_496.jpg', 'Milk_330.jpg', 'Bread_444.jpg', 'Milk_371.jpg', 'Eggs_128.jpg', 'Eggs_194.jpg', 'Eggs_28.jpg', 'Bread_186.jpg', 'Milk_233.jpg', 'Potato_301.jpg', 'Banana_240.jpg', 'Milk_107.jpg', 'Milk_271.jpg', 'Eggs_229.jpg', 'Bread_197.jpg', 'Spinach_195.jpg', 'Tomato_329.jpg', 'Banana_255.jpg', 'Bread_435.jpg', 'Eggs_346.jpg', 'Potato_155.jpg', 'Banana_309.jpg', 'Eggs_228.jpg', 'Banana_125.jpg', 'Bread_313.jpg', 'Eggs_325.jpg', 'Mixed_10.jpg', 'Spinach_145.jpg', 'Potato_242.jpg', 'Eggs_312.jpg', 'Tomato_21.jpg', 'Eggs_203.jpg', 'Banana_464.jpg', 'Banana_209.jpg', 'Eggs_144.jpg', 'Eggs_423.jpg', 'Bread_390.jpg', 'Potato_30.jpg', 'Eggs_473.jpg', 'Tomato_41.jpg', 'Banana_69.jpg', 'Bread_104.jpg', 'Bread_412.jpg', 'Milk_426.jpg', 'Tomato_420.jpg', 'Bread_283.jpg', 'Milk_499.jpg', 'Tomato_445.jpg', 'Spinach_445.jpg', 'Mixed_312.jpg', 'Bread_134.jpg', 'Banana_34.jpg', 'Tomato_451.jpg', 'Mixed_171.jpg', 'Spinach_4.jpg', 'Eggs_307.jpg', 'Potato_487.jpg', 'Banana_265.jpg', 'Tomato_81.jpg', 'Mixed_28.jpg', 'Eggs_156.jpg', 'Tomato_114.jpg', 'Tomato_80.jpg', 'Banana_391.jpg', 'Potato_119.jpg', 'Tomato_118.jpg', 'Tomato_233.jpg', 'Spinach_7.jpg', 'Mixed_145.jpg', 'Milk_11.jpg', 'Mixed_140.jpg', 'Banana_109.jpg', 'Spinach_254.jpg', 'Milk_122.jpg', 'Bread_288.jpg', 'Spinach_187.jpg', 'Bread_439.jpg', 'Potato_499.jpg', 'Mixed_221.jpg', 'Banana_162.jpg', 'Banana_241.jpg', 'Milk_209.jpg', 'Milk_469.jpg', 'Mixed_259.jpg', 'Spinach_408.jpg', 'Milk_478.jpg', 'Eggs_275.jpg', 'Spinach_358.jpg', 'Potato_298.jpg', 'Eggs_261.jpg', 'Banana_397.jpg', 'Tomato_292.jpg', 'Mixed_289.jpg', 'Banana_177.jpg', 'Spinach_312.jpg', 'Potato_408.jpg', 'Mixed_192.jpg', 'Mixed_345.jpg', 'Mixed_11.jpg', 'Bread_263.jpg', 'Tomato_480.jpg', 'Tomato_4.jpg', 'Bread_201.jpg', 'Bread_457.jpg', 'Banana_81.jpg', 'Tomato_58.jpg', 'Spinach_452.jpg', 'Eggs_358.jpg', 'Eggs_478.jpg', 'Potato_78.jpg', 'Mixed_409.jpg', 'Tomato_79.jpg', 'Eggs_419.jpg', 'Bread_491.jpg', 'Eggs_262.jpg', 'Bread_458.jpg', 'Eggs_361.jpg', 'Potato_100.jpg', 'Banana_290.jpg', 'Milk_351.jpg', 'Milk_179.jpg', 'Spinach_157.jpg', 'Bread_234.jpg', 'Spinach_467.jpg', 'Banana_410.jpg', 'Potato_346.jpg', 'Spinach_433.jpg', 'Spinach_44.jpg', 'Milk_38.jpg', 'Milk_96.jpg', 'Spinach_127.jpg', 'Tomato_322.jpg', 'Mixed_296.jpg', 'Mixed_492.jpg', 'Mixed_263.jpg', 'Eggs_67.jpg', 'Eggs_411.jpg', 'Tomato_113.jpg', 'Potato_57.jpg', 'Bread_74.jpg', 'Tomato_126.jpg', 'Mixed_73.jpg', 'Mixed_316.jpg', 'Tomato_263.jpg', 'Mixed_74.jpg', 'Eggs_341.jpg', 'Tomato_267.jpg', 'Mixed_401.jpg', 'Milk_143.jpg', 'Tomato_125.jpg', 'Mixed_428.jpg', 'Tomato_22.jpg', 'Potato_333.jpg', 'Milk_104.jpg', 'Potato_222.jpg', 'Potato_197.jpg', 'Milk_16.jpg', 'Bread_361.jpg', 'Potato_232.jpg', 'Mixed_391.jpg', 'Banana_472.jpg', 'Banana_389.jpg', 'Milk_119.jpg', 'Eggs_254.jpg', 'Bread_208.jpg', 'Milk_150.jpg', 'Potato_14.jpg', 'Mixed_435.jpg', 'Tomato_415.jpg', 'Mixed_131.jpg', 'Spinach_317.jpg', 'Tomato_476.jpg', 'Bread_309.jpg', 'Bread_430.jpg', 'Tomato_26.jpg', 'Milk_158.jpg', 'Mixed_42.jpg', 'Tomato_20.jpg', 'Mixed_24.jpg', 'Eggs_173.jpg', 'Banana_148.jpg', 'Banana_355.jpg', 'Bread_215.jpg', 'Eggs_98.jpg', 'Spinach_84.jpg', 'Eggs_221.jpg', 'Eggs_280.jpg', 'Milk_445.jpg', 'Mixed_445.jpg', 'Bread_130.jpg', 'Eggs_444.jpg', 'Spinach_337.jpg', 'Tomato_135.jpg', 'Eggs_459.jpg', 'Banana_76.jpg', 'Tomato_460.jpg', 'Eggs_386.jpg', 'Bread_453.jpg', 'Spinach_410.jpg', 'Tomato_18.jpg', 'Tomato_48.jpg', 'Milk_205.jpg', 'Eggs_204.jpg', 'Bread_227.jpg', 'Spinach_72.jpg', 'Banana_131.jpg', 'Spinach_348.jpg', 'Banana_127.jpg', 'Bread_254.jpg', 'Potato_159.jpg', 'Mixed_455.jpg', 'Potato_367.jpg', 'Spinach_377.jpg', 'Banana_61.jpg', 'Banana_456.jpg', 'Banana_169.jpg', 'Banana_478.jpg', 'Potato_377.jpg', 'Milk_0.jpg', 'Bread_122.jpg', 'Potato_483.jpg', 'Spinach_257.jpg', 'Potato_338.jpg', 'Potato_223.jpg', 'Tomato_96.jpg', 'Mixed_88.jpg', 'Mixed_97.jpg', 'Eggs_323.jpg', 'Potato_226.jpg', 'Eggs_328.jpg', 'Eggs_40.jpg', 'Mixed_247.jpg', 'Eggs_305.jpg', 'Tomato_208.jpg', 'Spinach_238.jpg', 'Tomato_231.jpg', 'Spinach_146.jpg', 'Milk_448.jpg', 'Eggs_388.jpg', 'Spinach_463.jpg', 'Mixed_355.jpg', 'Spinach_365.jpg', 'Milk_200.jpg', 'Potato_67.jpg', 'Milk_476.jpg', 'Spinach_233.jpg', 'Eggs_488.jpg', 'Tomato_286.jpg', 'Banana_280.jpg', 'Tomato_258.jpg', 'Spinach_278.jpg', 'Spinach_453.jpg', 'Spinach_159.jpg', 'Banana_354.jpg', 'Bread_151.jpg', 'Tomato_191.jpg', 'Potato_274.jpg', 'Mixed_318.jpg', 'Spinach_369.jpg', 'Eggs_320.jpg', 'Potato_139.jpg', 'Milk_174.jpg', 'Banana_259.jpg', 'Milk_134.jpg', 'Mixed_302.jpg', 'Potato_432.jpg', 'Potato_205.jpg', 'Bread_212.jpg', 'Tomato_423.jpg', 'Tomato_37.jpg', 'Tomato_127.jpg', 'Banana_450.jpg', 'Tomato_215.jpg', 'Bread_111.jpg', 'Spinach_476.jpg', 'Eggs_304.jpg', 'Mixed_299.jpg', 'Bread_266.jpg', 'Tomato_146.jpg', 'Potato_238.jpg', 'Banana_246.jpg', 'Mixed_106.jpg', 'Mixed_194.jpg', 'Tomato_209.jpg', 'Bread_84.jpg', 'Milk_167.jpg', 'Milk_313.jpg', 'Tomato_343.jpg', 'Banana_251.jpg', 'Eggs_433.jpg', 'Spinach_106.jpg', 'Eggs_122.jpg', 'Mixed_385.jpg', 'Tomato_324.jpg', 'Tomato_121.jpg', 'Eggs_467.jpg', 'Spinach_457.jpg', 'Mixed_86.jpg', 'Eggs_14.jpg', 'Eggs_171.jpg', 'Banana_286.jpg', 'Bread_238.jpg', 'Milk_81.jpg', 'Spinach_478.jpg', 'Milk_57.jpg', 'Banana_447.jpg', 'Spinach_336.jpg', 'Potato_471.jpg', 'Potato_44.jpg', 'Banana_89.jpg', 'Spinach_218.jpg', 'Bread_441.jpg', 'Spinach_387.jpg', 'Mixed_208.jpg', 'Mixed_471.jpg', 'Mixed_182.jpg', 'Banana_226.jpg', 'Milk_442.jpg', 'Tomato_378.jpg', 'Mixed_404.jpg', 'Banana_375.jpg', 'Banana_365.jpg', 'Bread_300.jpg', 'Eggs_65.jpg', 'Bread_492.jpg', 'Milk_212.jpg', 'Mixed_184.jpg', 'Spinach_261.jpg', 'Eggs_355.jpg', 'Potato_135.jpg', 'Banana_122.jpg', 'Banana_424.jpg', 'Potato_462.jpg', 'Milk_424.jpg', 'Tomato_443.jpg', 'Banana_80.jpg', 'Spinach_119.jpg', 'Milk_323.jpg', 'Bread_9.jpg', 'Potato_134.jpg', 'Spinach_49.jpg', 'Mixed_79.jpg', 'Mixed_126.jpg', 'Eggs_359.jpg', 'Eggs_366.jpg', 'Banana_396.jpg', 'Mixed_211.jpg', 'Spinach_95.jpg', 'Banana_468.jpg', 'Potato_88.jpg', 'Potato_229.jpg', 'Tomato_175.jpg', 'Eggs_285.jpg', 'Eggs_383.jpg', 'Mixed_52.jpg', 'Eggs_480.jpg', 'Milk_161.jpg', 'Tomato_494.jpg', 'Eggs_155.jpg', 'Bread_47.jpg', 'Mixed_62.jpg', 'Spinach_385.jpg', 'Eggs_301.jpg', 'Milk_261.jpg', 'Milk_35.jpg', 'Tomato_470.jpg', 'Tomato_12.jpg', 'Tomato_338.jpg', 'Spinach_140.jpg', 'Spinach_412.jpg', 'Bread_145.jpg', 'Eggs_410.jpg', 'Potato_302.jpg', 'Tomato_454.jpg', 'Spinach_492.jpg', 'Banana_330.jpg', 'Tomato_309.jpg', 'Tomato_163.jpg', 'Eggs_233.jpg', 'Milk_433.jpg', 'Mixed_331.jpg', 'Mixed_227.jpg', 'Milk_42.jpg', 'Milk_229.jpg', 'Mixed_380.jpg', 'Banana_350.jpg', 'Bread_221.jpg', 'Eggs_482.jpg', 'Bread_286.jpg', 'Potato_164.jpg', 'Bread_163.jpg', 'Mixed_159.jpg', 'Banana_187.jpg', 'Potato_490.jpg', 'Milk_49.jpg', 'Tomato_327.jpg', 'Banana_97.jpg', 'Milk_479.jpg', 'Tomato_23.jpg', 'Milk_170.jpg', 'Mixed_169.jpg', 'Milk_397.jpg', 'Milk_446.jpg', 'Bread_4.jpg', 'Bread_429.jpg', 'Milk_121.jpg', 'Mixed_209.jpg', 'Milk_242.jpg', 'Eggs_330.jpg', 'Eggs_352.jpg', 'Potato_20.jpg', 'Eggs_409.jpg', 'Spinach_378.jpg', 'Spinach_466.jpg', 'Spinach_86.jpg', 'Milk_106.jpg', 'Banana_13.jpg', 'Bread_305.jpg', 'Mixed_226.jpg', 'Bread_294.jpg', 'Banana_236.jpg', 'Milk_356.jpg', 'Banana_126.jpg', 'Banana_248.jpg', 'Potato_5.jpg', 'Milk_348.jpg', 'Bread_415.jpg', 'Bread_326.jpg', 'Mixed_59.jpg', 'Potato_310.jpg', 'Banana_413.jpg', 'Spinach_474.jpg', 'Milk_13.jpg', 'Banana_482.jpg', 'Potato_45.jpg', 'Eggs_62.jpg', 'Mixed_22.jpg', 'Banana_18.jpg', 'Tomato_247.jpg', 'Spinach_97.jpg', 'Bread_420.jpg', 'Banana_359.jpg', 'Mixed_254.jpg', 'Milk_73.jpg', 'Eggs_314.jpg', 'Milk_444.jpg', 'Potato_102.jpg', 'Eggs_382.jpg', 'Milk_232.jpg', 'Banana_422.jpg', 'Bread_476.jpg', 'Tomato_360.jpg', 'Milk_203.jpg', 'Eggs_22.jpg', 'Tomato_39.jpg', 'Milk_60.jpg', 'Potato_404.jpg', 'Milk_117.jpg', 'Spinach_166.jpg', 'Tomato_120.jpg', 'Eggs_258.jpg', 'Bread_152.jpg', 'Banana_288.jpg', 'Mixed_81.jpg', 'Eggs_138.jpg', 'Milk_449.jpg', 'Potato_133.jpg', 'Milk_132.jpg', 'Tomato_9.jpg', 'Banana_120.jpg', 'Bread_198.jpg', 'Tomato_300.jpg', 'Tomato_394.jpg', 'Milk_294.jpg', 'Eggs_398.jpg', 'Bread_13.jpg', 'Potato_18.jpg', 'Spinach_359.jpg', 'Milk_283.jpg', 'Tomato_406.jpg', 'Spinach_245.jpg', 'Bread_368.jpg', 'Mixed_350.jpg', 'Spinach_221.jpg', 'Mixed_448.jpg', 'Tomato_399.jpg', 'Milk_408.jpg', 'Spinach_76.jpg', 'Potato_187.jpg', 'Milk_404.jpg', 'Banana_287.jpg', 'Potato_182.jpg', 'Tomato_77.jpg', 'Mixed_384.jpg', 'Mixed_60.jpg', 'Bread_158.jpg', 'Eggs_116.jpg', 'Bread_70.jpg', 'Eggs_475.jpg', 'Banana_205.jpg', 'Banana_439.jpg', 'Milk_349.jpg', 'Tomato_379.jpg', 'Eggs_424.jpg', 'Banana_103.jpg', 'Mixed_141.jpg', 'Potato_63.jpg', 'Potato_72.jpg', 'Bread_436.jpg', 'Eggs_198.jpg', 'Eggs_6.jpg', 'Banana_254.jpg', 'Banana_497.jpg', 'Bread_306.jpg', 'Eggs_247.jpg', 'Mixed_99.jpg', 'Potato_347.jpg', 'Spinach_292.jpg', 'Tomato_433.jpg', 'Eggs_239.jpg', 'Milk_234.jpg', 'Potato_264.jpg', 'Milk_206.jpg', 'Spinach_58.jpg', 'Spinach_93.jpg', 'Potato_1.jpg', 'Spinach_277.jpg', 'Eggs_10.jpg', 'Banana_293.jpg', 'Potato_194.jpg', 'Mixed_241.jpg', 'Eggs_7.jpg', 'Spinach_301.jpg', 'Mixed_383.jpg', 'Bread_23.jpg', 'Potato_472.jpg', 'Spinach_428.jpg', 'Bread_338.jpg', 'Tomato_221.jpg', 'Tomato_499.jpg', 'Tomato_238.jpg', 'Eggs_47.jpg', 'Tomato_353.jpg', 'Mixed_189.jpg', 'Milk_267.jpg', 'Spinach_289.jpg', 'Tomato_455.jpg', 'Spinach_213.jpg', 'Milk_177.jpg', 'Bread_20.jpg', 'Eggs_196.jpg', 'Spinach_161.jpg', 'Tomato_60.jpg', 'Banana_179.jpg', 'Eggs_331.jpg', 'Potato_300.jpg', 'Banana_485.jpg', 'Bread_82.jpg', 'Milk_456.jpg', 'Spinach_33.jpg', 'Banana_0.jpg', 'Eggs_349.jpg', 'Banana_252.jpg', 'Bread_37.jpg', 'Potato_341.jpg', 'Potato_326.jpg', 'Eggs_269.jpg', 'Mixed_462.jpg', 'Banana_29.jpg', 'Tomato_393.jpg', 'Mixed_200.jpg', 'Potato_183.jpg', 'Potato_362.jpg', 'Mixed_478.jpg', 'Milk_317.jpg', 'Milk_69.jpg', 'Spinach_409.jpg', 'Banana_8.jpg', 'Tomato_28.jpg', 'Milk_169.jpg', 'Mixed_218.jpg', 'Banana_495.jpg', 'Potato_410.jpg', 'Potato_163.jpg', 'Milk_359.jpg', 'Bread_245.jpg', 'Mixed_309.jpg', 'Milk_328.jpg', 'Eggs_201.jpg', 'Milk_401.jpg', 'Bread_256.jpg', 'Banana_449.jpg', 'Spinach_248.jpg', 'Spinach_29.jpg', 'Potato_12.jpg', 'Tomato_486.jpg', 'Milk_289.jpg', 'Milk_441.jpg', 'Eggs_445.jpg', 'Tomato_223.jpg', 'Potato_348.jpg', 'Spinach_372.jpg', 'Banana_99.jpg', 'Milk_368.jpg', 'Spinach_133.jpg', 'Banana_473.jpg', 'Mixed_365.jpg', 'Bread_121.jpg', 'Bread_289.jpg', 'Mixed_217.jpg', 'Tomato_193.jpg', 'Potato_40.jpg', 'Potato_61.jpg', 'Bread_196.jpg', 'Mixed_344.jpg', 'Spinach_366.jpg', 'Potato_26.jpg', 'Tomato_493.jpg', 'Bread_85.jpg', 'Mixed_293.jpg', 'Eggs_9.jpg', 'Tomato_89.jpg', 'Mixed_291.jpg', 'Milk_254.jpg', 'Banana_444.jpg', 'Bread_26.jpg', 'Tomato_390.jpg', 'Tomato_369.jpg', 'Tomato_45.jpg', 'Spinach_363.jpg', 'Tomato_270.jpg', 'Milk_189.jpg', 'Bread_236.jpg', 'Spinach_340.jpg', 'Milk_50.jpg', 'Mixed_470.jpg', 'Bread_386.jpg', 'Mixed_410.jpg', 'Tomato_339.jpg', 'Banana_200.jpg', 'Spinach_156.jpg', 'Bread_276.jpg', 'Spinach_6.jpg', 'Spinach_461.jpg', 'Mixed_370.jpg', 'Eggs_86.jpg', 'Milk_223.jpg', 'Eggs_168.jpg', 'Spinach_189.jpg', 'Spinach_27.jpg', 'Banana_228.jpg', 'Milk_489.jpg', 'Mixed_92.jpg', 'Mixed_178.jpg', 'Milk_151.jpg', 'Spinach_469.jpg', 'Banana_425.jpg', 'Bread_187.jpg', 'Bread_321.jpg', 'Spinach_425.jpg', 'Bread_45.jpg', 'Potato_16.jpg', 'Tomato_6.jpg', 'Spinach_396.jpg', 'Bread_322.jpg', 'Mixed_220.jpg', 'Banana_427.jpg', 'Potato_185.jpg', 'Banana_462.jpg', 'Eggs_435.jpg', 'Spinach_427.jpg', 'Banana_411.jpg', 'Milk_68.jpg', 'Mixed_371.jpg', 'Banana_467.jpg', 'Spinach_74.jpg', 'Tomato_446.jpg', 'Tomato_488.jpg', 'Potato_276.jpg', 'Milk_40.jpg', 'Mixed_431.jpg', 'Mixed_268.jpg', 'Banana_66.jpg', 'Potato_224.jpg', 'Banana_140.jpg', 'Potato_225.jpg', 'Banana_174.jpg', 'Spinach_70.jpg', 'Eggs_311.jpg', 'Banana_333.jpg', 'Milk_407.jpg', 'Bread_178.jpg', 'Spinach_242.jpg', 'Potato_162.jpg', 'Potato_161.jpg', 'Milk_62.jpg', 'Eggs_223.jpg', 'Tomato_168.jpg', 'Tomato_439.jpg', 'Potato_55.jpg', 'Mixed_13.jpg', 'Tomato_119.jpg', 'Banana_469.jpg', 'Potato_325.jpg', 'Eggs_440.jpg', 'Eggs_227.jpg', 'Banana_90.jpg', 'Milk_139.jpg', 'Tomato_326.jpg', 'Eggs_152.jpg', 'Bread_414.jpg', 'Bread_367.jpg', 'Banana_115.jpg', 'Potato_178.jpg', 'Mixed_238.jpg', 'Mixed_204.jpg', 'Spinach_415.jpg', 'Milk_165.jpg', 'Bread_200.jpg', 'Mixed_352.jpg', 'Eggs_42.jpg', 'Bread_7.jpg', 'Eggs_177.jpg', 'Potato_120.jpg', 'Eggs_150.jpg', 'Potato_154.jpg', 'Mixed_165.jpg', 'Potato_204.jpg', 'Bread_136.jpg', 'Spinach_150.jpg', 'Mixed_156.jpg', 'Bread_395.jpg', 'Spinach_486.jpg', 'Banana_361.jpg', 'Banana_480.jpg', 'Mixed_170.jpg', 'Mixed_360.jpg', 'Bread_428.jpg', 'Eggs_288.jpg', 'Milk_32.jpg', 'Mixed_83.jpg', 'Spinach_352.jpg', 'Potato_477.jpg', 'Banana_201.jpg', 'Eggs_384.jpg', 'Spinach_71.jpg', 'Tomato_410.jpg', 'Spinach_287.jpg', 'Spinach_215.jpg', 'Spinach_30.jpg', 'Potato_431.jpg', 'Mixed_43.jpg', 'Banana_385.jpg', 'Eggs_8.jpg', 'Mixed_64.jpg', 'Eggs_182.jpg', 'Eggs_456.jpg', 'Mixed_393.jpg', 'Spinach_224.jpg', 'Tomato_452.jpg', 'Banana_308.jpg', 'Eggs_399.jpg', 'Tomato_481.jpg', 'Eggs_81.jpg', 'Spinach_356.jpg', 'Milk_290.jpg', 'Potato_280.jpg', 'Milk_214.jpg', 'Mixed_187.jpg', 'Tomato_24.jpg', 'Bread_297.jpg', 'Milk_490.jpg', 'Milk_411.jpg', 'Tomato_240.jpg', 'Spinach_179.jpg', 'Potato_439.jpg', 'Potato_269.jpg', 'Milk_312.jpg', 'Potato_195.jpg', 'Eggs_184.jpg', 'Potato_62.jpg', 'Mixed_82.jpg', 'Banana_283.jpg', 'Eggs_41.jpg', 'Tomato_363.jpg', 'Mixed_89.jpg', 'Tomato_55.jpg', 'Potato_458.jpg', 'Eggs_172.jpg', 'Banana_362.jpg', 'Spinach_89.jpg', 'Mixed_34.jpg', 'Spinach_169.jpg', 'Banana_62.jpg', 'Potato_19.jpg', 'Eggs_180.jpg', 'Eggs_430.jpg', 'Banana_190.jpg', 'Spinach_395.jpg', 'Potato_193.jpg', 'Spinach_62.jpg', 'Bread_377.jpg', 'Banana_325.jpg', 'Bread_473.jpg', 'Tomato_384.jpg', 'Banana_256.jpg', 'Milk_153.jpg', 'Milk_225.jpg', 'Milk_477.jpg', 'Potato_257.jpg', 'Spinach_439.jpg', 'Milk_135.jpg', 'Potato_69.jpg', 'Eggs_246.jpg', 'Mixed_30.jpg', 'Banana_182.jpg', 'Spinach_489.jpg', 'Milk_419.jpg', 'Potato_259.jpg', 'Potato_470.jpg', 'Tomato_442.jpg', 'Potato_181.jpg', 'Mixed_16.jpg', 'Mixed_56.jpg', 'Mixed_103.jpg', 'Tomato_236.jpg', 'Banana_374.jpg', 'Potato_130.jpg', 'Banana_220.jpg', 'Spinach_258.jpg', 'Eggs_224.jpg', 'Tomato_449.jpg', 'Mixed_314.jpg', 'Mixed_120.jpg', 'Potato_315.jpg', 'Bread_142.jpg', 'Tomato_177.jpg', 'Mixed_315.jpg', 'Bread_481.jpg', 'Tomato_108.jpg', 'Milk_194.jpg', 'Bread_137.jpg', 'Mixed_472.jpg', 'Milk_8.jpg', 'Bread_88.jpg', 'Banana_93.jpg', 'Eggs_452.jpg', 'Bread_180.jpg', 'Banana_292.jpg', 'Eggs_463.jpg', 'Potato_248.jpg', 'Bread_281.jpg', 'Eggs_458.jpg', 'Bread_155.jpg', 'Mixed_407.jpg', 'Mixed_493.jpg', 'Spinach_449.jpg', 'Mixed_278.jpg', 'Potato_158.jpg', 'Banana_403.jpg', 'Banana_419.jpg', 'Bread_211.jpg', 'Tomato_372.jpg', 'Potato_449.jpg', 'Milk_265.jpg', 'Potato_422.jpg', 'Spinach_345.jpg', 'Mixed_430.jpg', 'Banana_19.jpg', 'Eggs_363.jpg', 'Tomato_251.jpg', 'Spinach_183.jpg', 'Spinach_55.jpg', 'Banana_242.jpg', 'Mixed_257.jpg', 'Eggs_215.jpg', 'Mixed_477.jpg', 'Tomato_361.jpg', 'Tomato_273.jpg', 'Milk_486.jpg', 'Eggs_106.jpg', 'Tomato_355.jpg', 'Eggs_416.jpg', 'Mixed_7.jpg', 'Mixed_415.jpg', 'Banana_317.jpg', 'Spinach_472.jpg', 'Eggs_413.jpg', 'Bread_460.jpg', 'Banana_454.jpg', 'Tomato_166.jpg', 'Spinach_217.jpg', 'Milk_454.jpg', 'Eggs_494.jpg', 'Banana_486.jpg', 'Banana_223.jpg', 'Milk_295.jpg', 'Potato_190.jpg', 'Potato_308.jpg', 'Tomato_344.jpg', 'Bread_117.jpg', 'Spinach_436.jpg', 'Tomato_36.jpg', 'Eggs_46.jpg', 'Mixed_239.jpg', 'Bread_59.jpg', 'Eggs_481.jpg', 'Milk_187.jpg', 'Bread_379.jpg', 'Spinach_370.jpg', 'Eggs_193.jpg', 'Mixed_109.jpg', 'Eggs_91.jpg', 'Eggs_492.jpg', 'Bread_282.jpg', 'Potato_353.jpg', 'Potato_147.jpg', 'Milk_414.jpg', 'Eggs_66.jpg', 'Milk_420.jpg', 'Bread_106.jpg', 'Bread_204.jpg', 'Tomato_310.jpg', 'Spinach_310.jpg', 'Milk_277.jpg', 'Spinach_220.jpg', 'Potato_395.jpg', 'Mixed_33.jpg', 'Tomato_164.jpg', 'Potato_372.jpg', 'Spinach_207.jpg', 'Bread_331.jpg', 'Spinach_414.jpg', 'Mixed_418.jpg', 'Tomato_87.jpg', 'Spinach_300.jpg', 'Banana_436.jpg', 'Spinach_65.jpg', 'Spinach_48.jpg', 'Bread_46.jpg', 'Mixed_152.jpg', 'Mixed_235.jpg', 'Bread_349.jpg', 'Milk_218.jpg', 'Bread_249.jpg', 'Eggs_297.jpg', 'Mixed_95.jpg', 'Spinach_57.jpg', 'Bread_354.jpg', 'Potato_378.jpg', 'Milk_92.jpg', 'Milk_15.jpg', 'Milk_383.jpg', 'Bread_351.jpg', 'Potato_450.jpg', 'Bread_8.jpg', 'Eggs_453.jpg', 'Potato_414.jpg', 'Milk_274.jpg', 'Bread_423.jpg', 'Milk_188.jpg', 'Tomato_289.jpg', 'Spinach_85.jpg', 'Bread_485.jpg', 'Tomato_492.jpg', 'Tomato_464.jpg', 'Tomato_111.jpg', 'Banana_273.jpg', 'Banana_303.jpg', 'Potato_82.jpg', 'Tomato_391.jpg', 'Bread_293.jpg', 'Mixed_271.jpg', 'Potato_383.jpg', 'Eggs_418.jpg', 'Potato_58.jpg', 'Mixed_173.jpg', 'Mixed_94.jpg', 'Potato_220.jpg', 'Bread_333.jpg', 'Banana_244.jpg', 'Mixed_222.jpg', 'Potato_168.jpg', 'Bread_399.jpg', 'Eggs_100.jpg', 'Spinach_246.jpg', 'Spinach_497.jpg', 'Mixed_474.jpg', 'Banana_313.jpg', 'Tomato_297.jpg', 'Tomato_157.jpg', 'Eggs_240.jpg', 'Bread_75.jpg', 'Potato_336.jpg', 'Eggs_12.jpg', 'Mixed_244.jpg', 'Spinach_137.jpg', 'Potato_461.jpg', 'Bread_39.jpg', 'Mixed_496.jpg', 'Banana_307.jpg', 'Potato_382.jpg', 'Eggs_308.jpg', 'Tomato_424.jpg', 'Bread_171.jpg', 'Tomato_228.jpg', 'Milk_116.jpg', 'Potato_345.jpg', 'Tomato_203.jpg', 'Banana_461.jpg', 'Tomato_62.jpg', 'Banana_154.jpg', 'Milk_333.jpg', 'Tomato_368.jpg', 'Tomato_362.jpg', 'Mixed_37.jpg', 'Mixed_205.jpg', 'Milk_99.jpg', 'Tomato_351.jpg', 'Potato_306.jpg', 'Spinach_103.jpg', 'Tomato_346.jpg', 'Eggs_121.jpg', 'Bread_168.jpg', 'Milk_215.jpg', 'Eggs_13.jpg', 'Banana_141.jpg', 'Tomato_438.jpg', 'Milk_364.jpg', 'Milk_164.jpg', 'Eggs_53.jpg', 'Potato_4.jpg', 'Tomato_194.jpg', 'Potato_407.jpg', 'Tomato_195.jpg', 'Bread_233.jpg', 'Bread_417.jpg', 'Milk_171.jpg', 'Mixed_264.jpg', 'Eggs_252.jpg', 'Tomato_226.jpg', 'Mixed_325.jpg', 'Eggs_465.jpg', 'Banana_77.jpg', 'Tomato_216.jpg', 'Mixed_1.jpg', 'Mixed_201.jpg', 'Mixed_369.jpg', 'Potato_464.jpg', 'Banana_416.jpg', 'Milk_162.jpg', 'Mixed_305.jpg', 'Milk_105.jpg', 'Milk_24.jpg', 'Bread_216.jpg', 'Potato_278.jpg', 'Bread_291.jpg', 'Spinach_23.jpg', 'Banana_301.jpg', 'Milk_485.jpg', 'Eggs_191.jpg', 'Mixed_114.jpg', 'Milk_437.jpg', 'Potato_245.jpg', 'Eggs_404.jpg', 'Banana_378.jpg', 'Bread_471.jpg', 'Banana_98.jpg', 'Banana_483.jpg', 'Milk_398.jpg', 'Banana_291.jpg', 'Potato_396.jpg', 'Eggs_24.jpg', 'Bread_213.jpg', 'Eggs_242.jpg', 'Milk_495.jpg', 'Bread_164.jpg', 'Potato_136.jpg', 'Mixed_146.jpg', 'Milk_455.jpg', 'Spinach_338.jpg', 'Banana_342.jpg', 'Spinach_350.jpg', 'Tomato_78.jpg', 'Bread_153.jpg', 'Bread_392.jpg', 'Bread_132.jpg', 'Bread_0.jpg', 'Banana_264.jpg', 'Eggs_279.jpg', 'Banana_45.jpg', 'Mixed_58.jpg', 'Milk_39.jpg', 'Potato_250.jpg', 'Banana_44.jpg', 'Tomato_313.jpg', 'Milk_494.jpg', 'Bread_191.jpg', 'Potato_43.jpg', 'Milk_360.jpg', 'Spinach_413.jpg', 'Potato_448.jpg', 'Potato_32.jpg', 'Milk_10.jpg', 'Tomato_268.jpg', 'Potato_35.jpg', 'Potato_23.jpg', 'Banana_237.jpg', 'Mixed_78.jpg', 'Eggs_49.jpg', 'Banana_415.jpg', 'Eggs_393.jpg', 'Spinach_2.jpg', 'Spinach_173.jpg', 'Potato_416.jpg', 'Milk_316.jpg', 'Spinach_232.jpg', 'Banana_302.jpg', 'Milk_458.jpg', 'Spinach_191.jpg', 'Milk_26.jpg', 'Bread_147.jpg', 'Mixed_256.jpg', 'Eggs_160.jpg', 'Bread_475.jpg', 'Potato_215.jpg', 'Spinach_268.jpg', 'Tomato_349.jpg', 'Tomato_105.jpg', 'Spinach_276.jpg', 'Milk_228.jpg', 'Milk_345.jpg', 'Spinach_66.jpg', 'Banana_25.jpg', 'Tomato_412.jpg', 'Milk_293.jpg', 'Tomato_496.jpg', 'Mixed_20.jpg', 'Eggs_253.jpg', 'Eggs_332.jpg', 'Banana_194.jpg', 'Milk_300.jpg', 'Banana_33.jpg', 'Banana_10.jpg', 'Milk_91.jpg', 'Spinach_402.jpg', 'Potato_420.jpg', 'Potato_465.jpg', 'Mixed_107.jpg', 'Milk_461.jpg', 'Eggs_73.jpg', 'Mixed_439.jpg', 'Banana_130.jpg', 'Potato_424.jpg', 'Eggs_257.jpg', 'Spinach_255.jpg', 'Spinach_135.jpg', 'Mixed_475.jpg', 'Spinach_35.jpg', 'Spinach_319.jpg', 'Milk_255.jpg', 'Potato_113.jpg', 'Tomato_382.jpg', 'Eggs_83.jpg', 'Bread_342.jpg', 'Banana_388.jpg', 'Milk_466.jpg', 'Eggs_85.jpg', 'Spinach_90.jpg', 'Eggs_127.jpg', 'Bread_477.jpg', 'Potato_332.jpg', 'Tomato_408.jpg', 'Mixed_47.jpg', 'Mixed_417.jpg', 'Mixed_15.jpg', 'Tomato_444.jpg', 'Mixed_44.jpg', 'Tomato_414.jpg', 'Banana_268.jpg', 'Tomato_467.jpg', 'Tomato_151.jpg', 'Spinach_441.jpg', 'Banana_129.jpg', 'Milk_315.jpg', 'Bread_109.jpg', 'Potato_71.jpg', 'Potato_376.jpg', 'Tomato_176.jpg', 'Spinach_222.jpg', 'Banana_250.jpg', 'Tomato_69.jpg', 'Spinach_94.jpg', 'Potato_349.jpg', 'Mixed_498.jpg', 'Bread_405.jpg', 'Bread_174.jpg', 'Milk_457.jpg', 'Potato_146.jpg', 'Banana_401.jpg', 'Potato_430.jpg', 'Mixed_484.jpg', 'Banana_63.jpg', 'Banana_150.jpg', 'Banana_414.jpg', 'Banana_498.jpg', 'Tomato_282.jpg', 'Mixed_5.jpg', 'Mixed_181.jpg', 'Tomato_218.jpg', 'Banana_58.jpg', 'Bread_329.jpg', 'Potato_110.jpg', 'Potato_252.jpg', 'Eggs_450.jpg', 'Bread_192.jpg', 'Banana_11.jpg', 'Eggs_114.jpg', 'Bread_55.jpg', 'Mixed_123.jpg', 'Bread_433.jpg', 'Spinach_462.jpg', 'Bread_301.jpg', 'Mixed_411.jpg', 'Spinach_470.jpg', 'Eggs_377.jpg', 'Eggs_234.jpg', 'Spinach_17.jpg', 'Potato_488.jpg', 'Bread_184.jpg', 'Eggs_449.jpg', 'Potato_66.jpg', 'Eggs_236.jpg', 'Milk_264.jpg', 'Banana_38.jpg', 'Milk_216.jpg', 'Potato_6.jpg', 'Mixed_414.jpg', 'Tomato_100.jpg', 'Potato_188.jpg', 'Eggs_315.jpg', 'Eggs_434.jpg', 'Eggs_372.jpg', 'Potato_486.jpg', 'Spinach_208.jpg', 'Banana_14.jpg', 'Milk_353.jpg', 'Mixed_328.jpg', 'Mixed_48.jpg', 'Spinach_303.jpg']\n",
            "Validation Images: ['Milk_145.jpg', 'Bread_465.jpg', 'Milk_492.jpg', 'Tomato_27.jpg', 'Potato_169.jpg', 'Milk_452.jpg', 'Mixed_353.jpg', 'Banana_382.jpg', 'Bread_421.jpg', 'Bread_407.jpg', 'Milk_427.jpg', 'Spinach_250.jpg', 'Milk_78.jpg', 'Potato_402.jpg', 'Spinach_227.jpg', 'Bread_225.jpg', 'Bread_90.jpg', 'Bread_478.jpg', 'Eggs_129.jpg', 'Banana_75.jpg', 'Milk_118.jpg', 'Mixed_427.jpg', 'Mixed_397.jpg', 'Banana_139.jpg', 'Banana_6.jpg', 'Bread_328.jpg', 'Mixed_128.jpg', 'Bread_484.jpg', 'Potato_28.jpg', 'Eggs_117.jpg', 'Banana_113.jpg', 'Milk_103.jpg', 'Tomato_165.jpg', 'Potato_397.jpg', 'Mixed_80.jpg', 'Milk_487.jpg', 'Banana_12.jpg', 'Banana_229.jpg', 'Banana_85.jpg', 'Potato_65.jpg', 'Banana_238.jpg', 'Potato_129.jpg', 'Banana_54.jpg', 'Potato_281.jpg', 'Milk_112.jpg', 'Tomato_160.jpg', 'Eggs_454.jpg', 'Milk_51.jpg', 'Banana_5.jpg', 'Eggs_135.jpg', 'Bread_258.jpg', 'Bread_170.jpg', 'Tomato_140.jpg', 'Mixed_3.jpg', 'Potato_419.jpg', 'Mixed_468.jpg', 'Eggs_369.jpg', 'Tomato_331.jpg', 'Mixed_304.jpg', 'Spinach_13.jpg', 'Potato_364.jpg', 'Milk_346.jpg', 'Tomato_128.jpg', 'Tomato_307.jpg', 'Eggs_97.jpg', 'Banana_298.jpg', 'Potato_282.jpg', 'Mixed_172.jpg', 'Potato_303.jpg', 'Mixed_408.jpg', 'Potato_144.jpg', 'Bread_143.jpg', 'Tomato_95.jpg', 'Eggs_63.jpg', 'Bread_24.jpg', 'Eggs_207.jpg', 'Bread_448.jpg', 'Tomato_404.jpg', 'Mixed_135.jpg', 'Mixed_101.jpg', 'Eggs_159.jpg', 'Banana_15.jpg', 'Tomato_197.jpg', 'Milk_31.jpg', 'Mixed_363.jpg', 'Tomato_129.jpg', 'Mixed_386.jpg', 'Banana_377.jpg', 'Mixed_311.jpg', 'Potato_334.jpg', 'Bread_425.jpg', 'Spinach_252.jpg', 'Tomato_400.jpg', 'Tomato_259.jpg', 'Spinach_422.jpg', 'Eggs_407.jpg', 'Potato_270.jpg', 'Tomato_31.jpg', 'Eggs_126.jpg', 'Spinach_0.jpg', 'Bread_348.jpg', 'Potato_314.jpg', 'Mixed_160.jpg', 'Banana_106.jpg', 'Potato_399.jpg', 'Milk_245.jpg', 'Potato_73.jpg', 'Eggs_84.jpg', 'Spinach_151.jpg', 'Mixed_334.jpg', 'Tomato_250.jpg', 'Potato_50.jpg', 'Banana_144.jpg', 'Spinach_446.jpg', 'Mixed_21.jpg', 'Eggs_50.jpg', 'Eggs_162.jpg', 'Tomato_474.jpg', 'Tomato_389.jpg', 'Spinach_171.jpg', 'Mixed_129.jpg', 'Eggs_471.jpg', 'Eggs_48.jpg', 'Tomato_158.jpg', 'Tomato_484.jpg', 'Potato_107.jpg', 'Tomato_179.jpg', 'Mixed_177.jpg', 'Eggs_496.jpg', 'Spinach_259.jpg', 'Bread_64.jpg', 'Tomato_380.jpg', 'Bread_76.jpg', 'Tomato_409.jpg', 'Spinach_341.jpg', 'Eggs_250.jpg', 'Banana_188.jpg', 'Milk_276.jpg', 'Eggs_231.jpg', 'Bread_28.jpg', 'Potato_103.jpg', 'Eggs_11.jpg', 'Potato_176.jpg', 'Banana_383.jpg', 'Mixed_87.jpg', 'Mixed_362.jpg', 'Bread_43.jpg', 'Eggs_417.jpg', 'Spinach_334.jpg', 'Milk_431.jpg', 'Spinach_459.jpg', 'Eggs_309.jpg', 'Milk_98.jpg', 'Tomato_348.jpg', 'Bread_253.jpg', 'Bread_222.jpg', 'Banana_199.jpg', 'Spinach_429.jpg', 'Spinach_243.jpg', 'Milk_367.jpg', 'Mixed_310.jpg', 'Bread_71.jpg', 'Potato_240.jpg', 'Mixed_343.jpg', 'Milk_102.jpg', 'Tomato_248.jpg', 'Milk_100.jpg', 'Mixed_453.jpg', 'Milk_303.jpg', 'Milk_193.jpg', 'Milk_302.jpg', 'Eggs_146.jpg', 'Banana_368.jpg', 'Potato_49.jpg', 'Tomato_88.jpg', 'Mixed_234.jpg', 'Potato_261.jpg', 'Bread_179.jpg', 'Banana_71.jpg', 'Tomato_265.jpg', 'Bread_3.jpg', 'Tomato_364.jpg', 'Bread_307.jpg', 'Banana_186.jpg', 'Eggs_343.jpg', 'Banana_20.jpg', 'Spinach_342.jpg', 'Eggs_296.jpg', 'Bread_103.jpg', 'Spinach_447.jpg', 'Banana_310.jpg', 'Potato_351.jpg', 'Potato_361.jpg', 'Banana_104.jpg', 'Milk_306.jpg', 'Banana_353.jpg', 'Potato_186.jpg', 'Eggs_472.jpg', 'Bread_162.jpg', 'Eggs_426.jpg', 'Tomato_302.jpg', 'Tomato_332.jpg', 'Mixed_65.jpg', 'Tomato_407.jpg', 'Banana_367.jpg', 'Tomato_485.jpg', 'Mixed_426.jpg', 'Milk_33.jpg', 'Bread_440.jpg', 'Mixed_308.jpg', 'Potato_46.jpg', 'Milk_18.jpg', 'Spinach_444.jpg', 'Bread_63.jpg', 'Tomato_463.jpg', 'Banana_451.jpg', 'Tomato_224.jpg', 'Banana_135.jpg', 'Eggs_89.jpg', 'Mixed_326.jpg', 'Mixed_416.jpg', 'Potato_400.jpg', 'Eggs_295.jpg', 'Milk_387.jpg', 'Potato_219.jpg', 'Mixed_232.jpg', 'Banana_173.jpg', 'Banana_448.jpg', 'Spinach_178.jpg', 'Spinach_181.jpg', 'Milk_282.jpg', 'Milk_137.jpg', 'Potato_104.jpg', 'Eggs_281.jpg', 'Eggs_274.jpg', 'Banana_41.jpg', 'Eggs_302.jpg', 'Spinach_282.jpg', 'Potato_206.jpg', 'Eggs_87.jpg', 'Bread_449.jpg', 'Spinach_322.jpg', 'Spinach_129.jpg', 'Spinach_31.jpg', 'Potato_498.jpg', 'Bread_438.jpg', 'Tomato_222.jpg', 'Bread_474.jpg', 'Milk_337.jpg', 'Milk_373.jpg', 'Banana_278.jpg', 'Banana_222.jpg', 'Tomato_84.jpg', 'Tomato_317.jpg', 'Milk_365.jpg', 'Milk_410.jpg', 'Potato_266.jpg', 'Tomato_67.jpg', 'Bread_470.jpg', 'Mixed_275.jpg', 'Bread_452.jpg', 'Milk_222.jpg', 'Milk_67.jpg', 'Eggs_142.jpg', 'Banana_295.jpg', 'Spinach_104.jpg', 'Spinach_115.jpg', 'Spinach_138.jpg', 'Spinach_434.jpg', 'Tomato_257.jpg', 'Potato_286.jpg', 'Potato_231.jpg', 'Eggs_259.jpg', 'Milk_55.jpg', 'Tomato_187.jpg', 'Banana_262.jpg', 'Potato_192.jpg', 'Banana_172.jpg', 'Potato_148.jpg', 'Bread_483.jpg', 'Bread_488.jpg', 'Banana_214.jpg', 'Potato_293.jpg', 'Mixed_180.jpg', 'Bread_105.jpg', 'Spinach_440.jpg', 'Banana_211.jpg', 'Bread_394.jpg', 'Spinach_398.jpg', 'Banana_175.jpg', 'Bread_118.jpg', 'Eggs_464.jpg', 'Tomato_398.jpg', 'Bread_424.jpg', 'Milk_358.jpg', 'Banana_149.jpg', 'Spinach_229.jpg', 'Banana_51.jpg', 'Potato_127.jpg', 'Milk_299.jpg', 'Mixed_142.jpg', 'Milk_63.jpg', 'Potato_497.jpg', 'Tomato_392.jpg', 'Mixed_96.jpg', 'Banana_82.jpg', 'Eggs_88.jpg', 'Potato_283.jpg', 'Banana_357.jpg', 'Bread_411.jpg', 'Banana_52.jpg', 'Tomato_174.jpg', 'Eggs_353.jpg', 'Bread_232.jpg', 'Banana_218.jpg', 'Eggs_157.jpg', 'Banana_224.jpg', 'Mixed_452.jpg', 'Milk_462.jpg', 'Potato_489.jpg', 'Bread_373.jpg', 'Banana_219.jpg', 'Banana_189.jpg', 'Mixed_46.jpg', 'Spinach_211.jpg', 'Potato_273.jpg', 'Tomato_325.jpg', 'Mixed_214.jpg', 'Mixed_72.jpg', 'Mixed_67.jpg', 'Mixed_112.jpg', 'Bread_459.jpg', 'Eggs_251.jpg', 'Mixed_136.jpg', 'Bread_94.jpg', 'Bread_34.jpg', 'Milk_88.jpg', 'Eggs_226.jpg', 'Milk_52.jpg', 'Milk_30.jpg', 'Mixed_338.jpg', 'Milk_370.jpg', 'Banana_475.jpg', 'Milk_166.jpg', 'Spinach_320.jpg', 'Milk_382.jpg', 'Bread_169.jpg', 'Milk_292.jpg', 'Banana_49.jpg', 'Bread_389.jpg', 'Mixed_168.jpg', 'Bread_89.jpg', 'Potato_177.jpg', 'Tomato_86.jpg', 'Banana_168.jpg', 'Tomato_139.jpg', 'Tomato_418.jpg', 'Mixed_197.jpg', 'Potato_7.jpg', 'Eggs_136.jpg', 'Bread_5.jpg', 'Bread_255.jpg', 'Mixed_272.jpg', 'Tomato_16.jpg', 'Spinach_108.jpg', 'Spinach_203.jpg', 'Milk_83.jpg', 'Banana_72.jpg', 'Milk_199.jpg', 'Banana_249.jpg', 'Milk_338.jpg', 'Tomato_242.jpg', 'Mixed_31.jpg', 'Spinach_98.jpg', 'Tomato_220.jpg', 'Eggs_222.jpg', 'Potato_290.jpg', 'Spinach_394.jpg', 'Spinach_399.jpg', 'Potato_208.jpg', 'Potato_389.jpg', 'Spinach_1.jpg', 'Potato_476.jpg', 'Spinach_237.jpg', 'Bread_6.jpg', 'Spinach_134.jpg', 'Banana_320.jpg', 'Potato_249.jpg', 'Milk_22.jpg', 'Bread_157.jpg', 'Milk_5.jpg', 'Tomato_103.jpg', 'Spinach_120.jpg', 'Milk_17.jpg', 'Mixed_117.jpg', 'Eggs_103.jpg', 'Milk_357.jpg', 'Eggs_364.jpg', 'Spinach_479.jpg', 'Bread_60.jpg', 'Banana_381.jpg', 'Potato_255.jpg', 'Milk_43.jpg', 'Banana_70.jpg', 'Spinach_332.jpg', 'Banana_356.jpg', 'Spinach_266.jpg', 'Tomato_213.jpg', 'Tomato_279.jpg', 'Tomato_489.jpg', 'Banana_400.jpg', 'Tomato_53.jpg', 'Eggs_104.jpg', 'Mixed_116.jpg', 'Mixed_266.jpg', 'Tomato_229.jpg', 'Spinach_201.jpg', 'Mixed_432.jpg', 'Bread_257.jpg', 'Milk_453.jpg', 'Potato_212.jpg', 'Bread_499.jpg', 'Mixed_277.jpg', 'Spinach_386.jpg', 'Potato_271.jpg', 'Potato_275.jpg', 'Spinach_419.jpg', 'Mixed_390.jpg', 'Banana_376.jpg', 'Spinach_168.jpg', 'Milk_4.jpg', 'Milk_144.jpg', 'Tomato_478.jpg', 'Banana_458.jpg', 'Bread_350.jpg', 'Tomato_337.jpg', 'Spinach_401.jpg', 'Banana_431.jpg', 'Potato_218.jpg', 'Banana_306.jpg', 'Eggs_16.jpg', 'Bread_125.jpg', 'Spinach_404.jpg', 'Bread_316.jpg', 'Spinach_305.jpg', 'Potato_122.jpg', 'Potato_228.jpg', 'Potato_445.jpg', 'Potato_8.jpg', 'Tomato_44.jpg', 'Bread_207.jpg', 'Milk_231.jpg', 'Milk_308.jpg', 'Eggs_148.jpg', 'Potato_388.jpg', 'Milk_154.jpg', 'Eggs_379.jpg', 'Tomato_132.jpg', 'Potato_2.jpg', 'Spinach_64.jpg', 'Tomato_172.jpg', 'Mixed_280.jpg', 'Tomato_133.jpg', 'Bread_189.jpg', 'Spinach_172.jpg', 'Eggs_306.jpg', 'Potato_365.jpg', 'Milk_440.jpg', 'Eggs_462.jpg', 'Mixed_121.jpg', 'Milk_284.jpg', 'Banana_216.jpg', 'Banana_324.jpg', 'Tomato_33.jpg', 'Potato_87.jpg', 'Tomato_448.jpg', 'Tomato_106.jpg', 'Mixed_41.jpg', 'Banana_390.jpg', 'Milk_472.jpg', 'Spinach_306.jpg', 'Bread_278.jpg', 'Banana_371.jpg', 'Tomato_116.jpg', 'Mixed_313.jpg', 'Spinach_389.jpg', 'Tomato_437.jpg', 'Tomato_85.jpg', 'Tomato_123.jpg', 'Spinach_290.jpg', 'Bread_359.jpg', 'Banana_112.jpg', 'Banana_405.jpg', 'Bread_87.jpg', 'Mixed_320.jpg', 'Banana_208.jpg', 'Spinach_199.jpg', 'Banana_192.jpg', 'Milk_394.jpg', 'Milk_249.jpg', 'Banana_311.jpg', 'Eggs_278.jpg', 'Potato_277.jpg', 'Mixed_153.jpg', 'Mixed_441.jpg', 'Spinach_18.jpg', 'Tomato_285.jpg', 'Eggs_75.jpg', 'Milk_163.jpg', 'Milk_28.jpg', 'Banana_143.jpg', 'Mixed_412.jpg', 'Eggs_248.jpg', 'Potato_37.jpg', 'Eggs_498.jpg', 'Potato_31.jpg', 'Potato_10.jpg', 'Banana_153.jpg', 'Potato_466.jpg', 'Tomato_207.jpg', 'Bread_48.jpg', 'Milk_418.jpg', 'Potato_86.jpg', 'Mixed_250.jpg', 'Potato_412.jpg', 'Tomato_162.jpg', 'Potato_166.jpg', 'Eggs_202.jpg', 'Banana_434.jpg', 'Bread_44.jpg', 'Eggs_183.jpg', 'Milk_236.jpg', 'Eggs_60.jpg', 'Milk_20.jpg', 'Banana_107.jpg', 'Banana_476.jpg', 'Eggs_1.jpg', 'Spinach_473.jpg', 'Mixed_282.jpg', 'Potato_132.jpg', 'Milk_425.jpg', 'Tomato_47.jpg', 'Eggs_45.jpg', 'Spinach_368.jpg', 'Tomato_411.jpg', 'Eggs_164.jpg', 'Milk_95.jpg', 'Milk_220.jpg', 'Tomato_435.jpg', 'Milk_257.jpg', 'Spinach_323.jpg', 'Potato_423.jpg', 'Bread_247.jpg', 'Banana_26.jpg', 'Tomato_245.jpg', 'Bread_188.jpg', 'Mixed_423.jpg', 'Potato_339.jpg', 'Eggs_163.jpg', 'Tomato_401.jpg', 'Eggs_210.jpg', 'Tomato_441.jpg', 'Banana_363.jpg', 'Bread_49.jpg', 'Banana_466.jpg', 'Bread_343.jpg', 'Banana_181.jpg', 'Mixed_457.jpg', 'Eggs_131.jpg', 'Tomato_416.jpg', 'Potato_117.jpg', 'Milk_443.jpg', 'Milk_263.jpg', 'Spinach_494.jpg', 'Eggs_469.jpg', 'Eggs_208.jpg', 'Banana_443.jpg', 'Bread_398.jpg', 'Banana_441.jpg', 'Potato_305.jpg', 'Eggs_105.jpg', 'Banana_392.jpg', 'Banana_23.jpg', 'Milk_336.jpg', 'Banana_339.jpg', 'Potato_235.jpg', 'Potato_319.jpg', 'Eggs_264.jpg', 'Potato_392.jpg', 'Spinach_68.jpg', 'Eggs_273.jpg', 'Milk_436.jpg', 'Spinach_61.jpg', 'Mixed_27.jpg', 'Tomato_141.jpg', 'Tomato_142.jpg', 'Tomato_431.jpg', 'Potato_95.jpg', 'Bread_108.jpg', 'Spinach_264.jpg', 'Potato_265.jpg', 'Potato_295.jpg', 'Bread_116.jpg', 'Milk_128.jpg', 'Milk_156.jpg', 'Potato_451.jpg', 'Eggs_238.jpg', 'Banana_257.jpg', 'Bread_25.jpg', 'Tomato_161.jpg', 'Potato_360.jpg', 'Mixed_134.jpg', 'Banana_380.jpg', 'Tomato_357.jpg', 'Milk_430.jpg', 'Potato_287.jpg', 'Milk_101.jpg', 'Potato_435.jpg', 'Eggs_400.jpg', 'Potato_409.jpg', 'Spinach_347.jpg', 'Potato_328.jpg', 'Potato_294.jpg', 'Eggs_403.jpg', 'Eggs_34.jpg', 'Tomato_276.jpg', 'Eggs_405.jpg', 'Eggs_443.jpg', 'Potato_340.jpg', 'Mixed_436.jpg', 'Banana_429.jpg', 'Spinach_200.jpg', 'Milk_491.jpg', 'Mixed_215.jpg', 'Milk_379.jpg', 'Potato_481.jpg', 'Tomato_347.jpg', 'Banana_202.jpg', 'Bread_446.jpg', 'Eggs_212.jpg', 'Tomato_198.jpg', 'Tomato_419.jpg', 'Spinach_490.jpg', 'Bread_315.jpg', 'Spinach_354.jpg', 'Mixed_396.jpg', 'Milk_278.jpg', 'Potato_152.jpg', 'Tomato_498.jpg', 'Potato_373.jpg', 'Eggs_124.jpg', 'Tomato_72.jpg', 'Eggs_0.jpg', 'Tomato_461.jpg', 'Bread_284.jpg', 'Eggs_289.jpg', 'Banana_289.jpg', 'Tomato_136.jpg', 'Eggs_300.jpg', 'Banana_87.jpg', 'Spinach_36.jpg', 'Bread_226.jpg', 'Milk_475.jpg', 'Milk_202.jpg', 'Bread_437.jpg', 'Spinach_19.jpg', 'Potato_463.jpg', 'Potato_33.jpg', 'Mixed_342.jpg', 'Eggs_317.jpg', 'Mixed_443.jpg', 'Banana_21.jpg', 'Tomato_497.jpg', 'Banana_48.jpg', 'Tomato_280.jpg', 'Tomato_296.jpg', 'Banana_496.jpg', 'Mixed_258.jpg', 'Banana_364.jpg', 'Banana_35.jpg', 'Eggs_310.jpg', 'Banana_28.jpg', 'Eggs_52.jpg', 'Milk_113.jpg', 'Mixed_444.jpg', 'Potato_174.jpg', 'Bread_323.jpg', 'Milk_184.jpg', 'Banana_84.jpg', 'Spinach_139.jpg', 'Tomato_365.jpg', 'Tomato_413.jpg', 'Bread_14.jpg', 'Potato_284.jpg', 'Banana_27.jpg', 'Tomato_19.jpg', 'Spinach_343.jpg', 'Banana_59.jpg', 'Eggs_38.jpg', 'Eggs_277.jpg', 'Spinach_251.jpg', 'Bread_22.jpg', 'Eggs_457.jpg', 'Bread_224.jpg', 'Spinach_82.jpg', 'Potato_217.jpg', 'Banana_16.jpg', 'Spinach_464.jpg', 'Banana_234.jpg', 'Eggs_17.jpg', 'Milk_3.jpg', 'Milk_76.jpg', 'Spinach_167.jpg', 'Banana_406.jpg', 'Bread_21.jpg', 'Milk_304.jpg', 'Tomato_385.jpg', 'Eggs_141.jpg', 'Bread_252.jpg', 'Spinach_367.jpg', 'Mixed_321.jpg', 'Eggs_339.jpg', 'Tomato_70.jpg', 'Bread_400.jpg', 'Milk_329.jpg', 'Potato_320.jpg', 'Tomato_64.jpg', 'Banana_327.jpg', 'Tomato_143.jpg', 'Banana_32.jpg', 'Spinach_121.jpg', 'Mixed_228.jpg', 'Mixed_216.jpg', 'Milk_6.jpg', 'Tomato_107.jpg', 'Potato_413.jpg', 'Bread_12.jpg', 'Milk_497.jpg', 'Milk_286.jpg', 'Mixed_286.jpg', 'Tomato_52.jpg', 'Banana_133.jpg', 'Banana_64.jpg', 'Eggs_378.jpg', 'Potato_311.jpg', 'Mixed_405.jpg', 'Bread_382.jpg', 'Spinach_417.jpg', 'Spinach_420.jpg', 'Eggs_195.jpg', 'Eggs_499.jpg', 'Bread_426.jpg', 'Banana_117.jpg', 'Tomato_5.jpg', 'Bread_173.jpg', 'Bread_123.jpg', 'Spinach_12.jpg', 'Potato_455.jpg', 'Mixed_193.jpg', 'Potato_210.jpg', 'Spinach_481.jpg', 'Milk_279.jpg', 'Mixed_252.jpg', 'Tomato_150.jpg', 'Eggs_497.jpg', 'Spinach_281.jpg', 'Bread_401.jpg', 'Eggs_376.jpg', 'Bread_135.jpg', 'Spinach_118.jpg', 'Milk_127.jpg', 'Banana_338.jpg', 'Spinach_26.jpg', 'Mixed_377.jpg', 'Bread_385.jpg', 'Bread_10.jpg', 'Tomato_323.jpg', 'Bread_358.jpg', 'Banana_193.jpg', 'Mixed_351.jpg', 'Eggs_36.jpg', 'Milk_152.jpg', 'Milk_27.jpg', 'Milk_251.jpg', 'Eggs_21.jpg', 'Tomato_255.jpg', 'Potato_131.jpg', 'Potato_24.jpg', 'Milk_281.jpg', 'Milk_85.jpg', 'Milk_36.jpg', 'Potato_344.jpg', 'Tomato_35.jpg', 'Mixed_378.jpg', 'Tomato_475.jpg', 'Spinach_450.jpg', 'Spinach_291.jpg', 'Mixed_198.jpg', 'Banana_372.jpg', 'Banana_17.jpg']\n"
          ]
        }
      ],
      "source": [
        "print(\"Training Images:\", os.listdir('/content/ultralytics/Datasets/train/images') if os.path.exists('/content/ultralytics/Datasets/train/images') else \"Path not found\")\n",
        "print(\"Validation Images:\", os.listdir('/content/ultralytics/Datasets/val/images') if os.path.exists('/content/ultralytics/Datasets/val/images') else \"Path not found\")"
      ]
    },
    {
      "cell_type": "code",
      "execution_count": null,
      "metadata": {
        "colab": {
          "base_uri": "https://localhost:8080/"
        },
        "id": "mKEWxmEuPTX4",
        "outputId": "23aea54d-1b09-433b-e0b0-0cf812436d9c"
      },
      "outputs": [
        {
          "name": "stdout",
          "output_type": "stream",
          "text": [
            "Ultralytics 8.3.23 🚀 Python-3.10.12 torch-2.5.0+cu121 CPU (Intel Xeon 2.20GHz)\n",
            "\u001b[34m\u001b[1mengine/trainer: \u001b[0mtask=detect, mode=train, model=yolov8n.pt, data=/content/dataset.yaml, epochs=5, time=None, patience=100, batch=8, imgsz=416, save=True, save_period=-1, cache=False, device=None, workers=8, project=None, name=train, exist_ok=False, pretrained=True, optimizer=auto, verbose=True, seed=0, deterministic=True, single_cls=False, rect=False, cos_lr=False, close_mosaic=10, resume=False, amp=True, fraction=1.0, profile=False, freeze=None, multi_scale=False, overlap_mask=True, mask_ratio=4, dropout=0.0, val=True, split=val, save_json=False, save_hybrid=False, conf=None, iou=0.7, max_det=300, half=False, dnn=False, plots=True, source=None, vid_stride=1, stream_buffer=False, visualize=False, augment=False, agnostic_nms=False, classes=None, retina_masks=False, embed=None, show=False, save_frames=False, save_txt=False, save_conf=False, save_crop=False, show_labels=True, show_conf=True, show_boxes=True, line_width=None, format=torchscript, keras=False, optimize=False, int8=False, dynamic=False, simplify=True, opset=None, workspace=4, nms=False, lr0=0.01, lrf=0.01, momentum=0.937, weight_decay=0.0005, warmup_epochs=3.0, warmup_momentum=0.8, warmup_bias_lr=0.1, box=7.5, cls=0.5, dfl=1.5, pose=12.0, kobj=1.0, label_smoothing=0.0, nbs=64, hsv_h=0.015, hsv_s=0.7, hsv_v=0.4, degrees=0.0, translate=0.1, scale=0.5, shear=0.0, perspective=0.0, flipud=0.0, fliplr=0.5, bgr=0.0, mosaic=1.0, mixup=0.0, copy_paste=0.0, copy_paste_mode=flip, auto_augment=randaugment, erasing=0.4, crop_fraction=1.0, cfg=None, tracker=botsort.yaml, save_dir=runs/detect/train\n",
            "Downloading https://ultralytics.com/assets/Arial.ttf to '/root/.config/Ultralytics/Arial.ttf'...\n"
          ]
        },
        {
          "name": "stderr",
          "output_type": "stream",
          "text": [
            "100%|██████████| 755k/755k [00:00<00:00, 4.59MB/s]\n"
          ]
        },
        {
          "name": "stdout",
          "output_type": "stream",
          "text": [
            "Overriding model.yaml nc=80 with nc=7\n",
            "\n",
            "                   from  n    params  module                                       arguments                     \n",
            "  0                  -1  1       464  ultralytics.nn.modules.conv.Conv             [3, 16, 3, 2]                 \n",
            "  1                  -1  1      4672  ultralytics.nn.modules.conv.Conv             [16, 32, 3, 2]                \n",
            "  2                  -1  1      7360  ultralytics.nn.modules.block.C2f             [32, 32, 1, True]             \n",
            "  3                  -1  1     18560  ultralytics.nn.modules.conv.Conv             [32, 64, 3, 2]                \n",
            "  4                  -1  2     49664  ultralytics.nn.modules.block.C2f             [64, 64, 2, True]             \n",
            "  5                  -1  1     73984  ultralytics.nn.modules.conv.Conv             [64, 128, 3, 2]               \n",
            "  6                  -1  2    197632  ultralytics.nn.modules.block.C2f             [128, 128, 2, True]           \n",
            "  7                  -1  1    295424  ultralytics.nn.modules.conv.Conv             [128, 256, 3, 2]              \n",
            "  8                  -1  1    460288  ultralytics.nn.modules.block.C2f             [256, 256, 1, True]           \n",
            "  9                  -1  1    164608  ultralytics.nn.modules.block.SPPF            [256, 256, 5]                 \n",
            " 10                  -1  1         0  torch.nn.modules.upsampling.Upsample         [None, 2, 'nearest']          \n",
            " 11             [-1, 6]  1         0  ultralytics.nn.modules.conv.Concat           [1]                           \n",
            " 12                  -1  1    148224  ultralytics.nn.modules.block.C2f             [384, 128, 1]                 \n",
            " 13                  -1  1         0  torch.nn.modules.upsampling.Upsample         [None, 2, 'nearest']          \n",
            " 14             [-1, 4]  1         0  ultralytics.nn.modules.conv.Concat           [1]                           \n",
            " 15                  -1  1     37248  ultralytics.nn.modules.block.C2f             [192, 64, 1]                  \n",
            " 16                  -1  1     36992  ultralytics.nn.modules.conv.Conv             [64, 64, 3, 2]                \n",
            " 17            [-1, 12]  1         0  ultralytics.nn.modules.conv.Concat           [1]                           \n",
            " 18                  -1  1    123648  ultralytics.nn.modules.block.C2f             [192, 128, 1]                 \n",
            " 19                  -1  1    147712  ultralytics.nn.modules.conv.Conv             [128, 128, 3, 2]              \n",
            " 20             [-1, 9]  1         0  ultralytics.nn.modules.conv.Concat           [1]                           \n",
            " 21                  -1  1    493056  ultralytics.nn.modules.block.C2f             [384, 256, 1]                 \n",
            " 22        [15, 18, 21]  1    752677  ultralytics.nn.modules.head.Detect           [7, [64, 128, 256]]           \n",
            "Model summary: 225 layers, 3,012,213 parameters, 3,012,197 gradients, 8.2 GFLOPs\n",
            "\n",
            "Transferred 319/355 items from pretrained weights\n",
            "\u001b[34m\u001b[1mTensorBoard: \u001b[0mStart with 'tensorboard --logdir runs/detect/train', view at http://localhost:6006/\n",
            "Freezing layer 'model.22.dfl.conv.weight'\n"
          ]
        },
        {
          "name": "stderr",
          "output_type": "stream",
          "text": [
            "\u001b[34m\u001b[1mtrain: \u001b[0mScanning /content/drive/.shortcut-targets-by-id/1HX6wbQAvSQWO_kDemmLjQyfjYMvPaWbe/Datasets/labels/train.cache... 3200 images, 0 backgrounds, 0 corrupt: 100%|██████████| 3200/3200 [00:00<?, ?it/s]\n"
          ]
        },
        {
          "name": "stdout",
          "output_type": "stream",
          "text": [
            "\u001b[34m\u001b[1malbumentations: \u001b[0mBlur(p=0.01, blur_limit=(3, 7)), MedianBlur(p=0.01, blur_limit=(3, 7)), ToGray(p=0.01, num_output_channels=3, method='weighted_average'), CLAHE(p=0.01, clip_limit=(1, 4.0), tile_grid_size=(8, 8))\n"
          ]
        },
        {
          "name": "stderr",
          "output_type": "stream",
          "text": [
            "/usr/local/lib/python3.10/dist-packages/albumentations/__init__.py:13: UserWarning: A new version of Albumentations is available: 1.4.20 (you have 1.4.15). Upgrade using: pip install -U albumentations. To disable automatic update checks, set the environment variable NO_ALBUMENTATIONS_UPDATE to 1.\n",
            "  check_for_updates()\n",
            "\u001b[34m\u001b[1mval: \u001b[0mScanning /content/drive/.shortcut-targets-by-id/1HX6wbQAvSQWO_kDemmLjQyfjYMvPaWbe/Datasets/labels/val.cache... 800 images, 0 backgrounds, 0 corrupt: 100%|██████████| 800/800 [00:00<?, ?it/s]\n"
          ]
        },
        {
          "name": "stdout",
          "output_type": "stream",
          "text": [
            "Plotting labels to runs/detect/train/labels.jpg... \n",
            "\u001b[34m\u001b[1moptimizer:\u001b[0m 'optimizer=auto' found, ignoring 'lr0=0.01' and 'momentum=0.937' and determining best 'optimizer', 'lr0' and 'momentum' automatically... \n",
            "\u001b[34m\u001b[1moptimizer:\u001b[0m AdamW(lr=0.000909, momentum=0.9) with parameter groups 57 weight(decay=0.0), 64 weight(decay=0.0005), 63 bias(decay=0.0)\n",
            "\u001b[34m\u001b[1mTensorBoard: \u001b[0mmodel graph visualization added ✅\n",
            "Image sizes 416 train, 416 val\n",
            "Using 0 dataloader workers\n",
            "Logging results to \u001b[1mruns/detect/train\u001b[0m\n",
            "Starting training for 5 epochs...\n",
            "\n",
            "      Epoch    GPU_mem   box_loss   cls_loss   dfl_loss  Instances       Size\n"
          ]
        },
        {
          "name": "stderr",
          "output_type": "stream",
          "text": [
            "        1/5         0G      2.255      3.317      2.104         62        416: 100%|██████████| 400/400 [21:36<00:00,  3.24s/it]\n",
            "                 Class     Images  Instances      Box(P          R      mAP50  mAP50-95): 100%|██████████| 50/50 [11:57<00:00, 14.35s/it]\n"
          ]
        },
        {
          "name": "stdout",
          "output_type": "stream",
          "text": [
            "                   all        800       2201      0.303       0.28      0.185     0.0737\n",
            "\n",
            "      Epoch    GPU_mem   box_loss   cls_loss   dfl_loss  Instances       Size\n"
          ]
        },
        {
          "name": "stderr",
          "output_type": "stream",
          "text": [
            "        2/5         0G      2.211      2.827      2.032         48        416: 100%|██████████| 400/400 [19:32<00:00,  2.93s/it]\n",
            "                 Class     Images  Instances      Box(P          R      mAP50  mAP50-95): 100%|██████████| 50/50 [01:41<00:00,  2.04s/it]"
          ]
        },
        {
          "name": "stdout",
          "output_type": "stream",
          "text": [
            "                   all        800       2201      0.307      0.303      0.191     0.0784\n"
          ]
        },
        {
          "name": "stderr",
          "output_type": "stream",
          "text": [
            "\n"
          ]
        },
        {
          "name": "stdout",
          "output_type": "stream",
          "text": [
            "\n",
            "      Epoch    GPU_mem   box_loss   cls_loss   dfl_loss  Instances       Size\n"
          ]
        },
        {
          "name": "stderr",
          "output_type": "stream",
          "text": [
            "        3/5         0G      2.159      2.723      2.003         42        416: 100%|██████████| 400/400 [19:29<00:00,  2.92s/it]\n",
            "                 Class     Images  Instances      Box(P          R      mAP50  mAP50-95): 100%|██████████| 50/50 [01:45<00:00,  2.10s/it]"
          ]
        },
        {
          "name": "stdout",
          "output_type": "stream",
          "text": [
            "                   all        800       2201      0.359      0.309      0.226     0.0927\n"
          ]
        },
        {
          "name": "stderr",
          "output_type": "stream",
          "text": [
            "\n"
          ]
        },
        {
          "name": "stdout",
          "output_type": "stream",
          "text": [
            "\n",
            "      Epoch    GPU_mem   box_loss   cls_loss   dfl_loss  Instances       Size\n"
          ]
        },
        {
          "name": "stderr",
          "output_type": "stream",
          "text": [
            "        4/5         0G      2.115      2.635      1.965         34        416: 100%|██████████| 400/400 [19:24<00:00,  2.91s/it]\n",
            "                 Class     Images  Instances      Box(P          R      mAP50  mAP50-95): 100%|██████████| 50/50 [01:38<00:00,  1.97s/it]"
          ]
        },
        {
          "name": "stdout",
          "output_type": "stream",
          "text": [
            "                   all        800       2201      0.429      0.298      0.262      0.113\n"
          ]
        },
        {
          "name": "stderr",
          "output_type": "stream",
          "text": [
            "\n"
          ]
        },
        {
          "name": "stdout",
          "output_type": "stream",
          "text": [
            "\n",
            "      Epoch    GPU_mem   box_loss   cls_loss   dfl_loss  Instances       Size\n"
          ]
        },
        {
          "name": "stderr",
          "output_type": "stream",
          "text": [
            "        5/5         0G      2.059      2.546       1.93         48        416: 100%|██████████| 400/400 [19:23<00:00,  2.91s/it]\n",
            "                 Class     Images  Instances      Box(P          R      mAP50  mAP50-95): 100%|██████████| 50/50 [01:43<00:00,  2.07s/it]"
          ]
        },
        {
          "name": "stdout",
          "output_type": "stream",
          "text": [
            "                   all        800       2201      0.466      0.333      0.283      0.125\n"
          ]
        },
        {
          "name": "stderr",
          "output_type": "stream",
          "text": [
            "\n"
          ]
        },
        {
          "name": "stdout",
          "output_type": "stream",
          "text": [
            "\n",
            "5 epochs completed in 1.973 hours.\n",
            "Optimizer stripped from runs/detect/train/weights/last.pt, 6.2MB\n",
            "Optimizer stripped from runs/detect/train/weights/best.pt, 6.2MB\n",
            "\n",
            "Validating runs/detect/train/weights/best.pt...\n",
            "Ultralytics 8.3.23 🚀 Python-3.10.12 torch-2.5.0+cu121 CPU (Intel Xeon 2.20GHz)\n",
            "Model summary (fused): 168 layers, 3,007,013 parameters, 0 gradients, 8.1 GFLOPs\n"
          ]
        },
        {
          "name": "stderr",
          "output_type": "stream",
          "text": [
            "                 Class     Images  Instances      Box(P          R      mAP50  mAP50-95): 100%|██████████| 50/50 [01:33<00:00,  1.87s/it]\n"
          ]
        },
        {
          "name": "stdout",
          "output_type": "stream",
          "text": [
            "                   all        800       2201      0.467      0.333      0.284      0.125\n",
            "                Tomato        147        232      0.699      0.409      0.404      0.151\n",
            "               Spinach        125        151      0.472       0.55      0.505      0.211\n",
            "                Potato        131        505      0.351      0.194      0.163     0.0854\n",
            "                  Milk        134        293      0.501       0.27      0.255      0.134\n",
            "                  Eggs        137        459      0.327      0.272      0.171     0.0868\n",
            "                 Bread        118        156      0.563      0.359      0.308      0.121\n",
            "                Banana        146        405      0.353      0.277      0.178      0.089\n",
            "Speed: 1.8ms preprocess, 97.1ms inference, 0.0ms loss, 3.3ms postprocess per image\n",
            "Results saved to \u001b[1mruns/detect/train\u001b[0m\n"
          ]
        }
      ],
      "source": [
        "# Start training the model\n",
        "results = model.train(data='/content/dataset.yaml', epochs=5, batch=8, imgsz=416)"
      ]
    },
    {
      "cell_type": "code",
      "execution_count": null,
      "metadata": {
        "colab": {
          "base_uri": "https://localhost:8080/"
        },
        "id": "SmId8XlLPsrI",
        "outputId": "a194ef35-1c47-4ec9-ee63-8c9446f47bcf"
      },
      "outputs": [
        {
          "name": "stdout",
          "output_type": "stream",
          "text": [
            "Downloading https://github.com/ultralytics/assets/releases/download/v8.3.0/yolov8s.pt to 'yolov8s.pt'...\n"
          ]
        },
        {
          "name": "stderr",
          "output_type": "stream",
          "text": [
            "100%|██████████| 21.5M/21.5M [00:00<00:00, 56.8MB/s]\n"
          ]
        }
      ],
      "source": [
        "from ultralytics import YOLO\n",
        "\n",
        "# Load YOLOv8 small model (YOLOv8s)\n",
        "model = YOLO('yolov8s.pt')  # Use 'yolov8n.pt' for nano or other variants if needed"
      ]
    },
    {
      "cell_type": "code",
      "execution_count": null,
      "metadata": {
        "colab": {
          "background_save": true,
          "base_uri": "https://localhost:8080/"
        },
        "id": "Ly3CKCfQimYE",
        "outputId": "d0471ea4-5fdc-4d1e-fa7a-e5ef987dc93e"
      },
      "outputs": [
        {
          "name": "stdout",
          "output_type": "stream",
          "text": [
            "Ultralytics 8.3.23 🚀 Python-3.10.12 torch-2.5.0+cu121 CPU (Intel Xeon 2.20GHz)\n",
            "\u001b[34m\u001b[1mengine/trainer: \u001b[0mtask=detect, mode=train, model=yolov8s.pt, data=/content/dataset.yaml, epochs=5, time=None, patience=100, batch=8, imgsz=416, save=True, save_period=-1, cache=False, device=None, workers=8, project=None, name=train2, exist_ok=False, pretrained=True, optimizer=auto, verbose=True, seed=0, deterministic=True, single_cls=False, rect=False, cos_lr=False, close_mosaic=10, resume=False, amp=True, fraction=1.0, profile=False, freeze=None, multi_scale=False, overlap_mask=True, mask_ratio=4, dropout=0.0, val=True, split=val, save_json=False, save_hybrid=False, conf=None, iou=0.7, max_det=300, half=False, dnn=False, plots=True, source=None, vid_stride=1, stream_buffer=False, visualize=False, augment=False, agnostic_nms=False, classes=None, retina_masks=False, embed=None, show=False, save_frames=False, save_txt=False, save_conf=False, save_crop=False, show_labels=True, show_conf=True, show_boxes=True, line_width=None, format=torchscript, keras=False, optimize=False, int8=False, dynamic=False, simplify=True, opset=None, workspace=4, nms=False, lr0=0.01, lrf=0.01, momentum=0.937, weight_decay=0.0005, warmup_epochs=3.0, warmup_momentum=0.8, warmup_bias_lr=0.1, box=7.5, cls=0.5, dfl=1.5, pose=12.0, kobj=1.0, label_smoothing=0.0, nbs=64, hsv_h=0.015, hsv_s=0.7, hsv_v=0.4, degrees=0.0, translate=0.1, scale=0.5, shear=0.0, perspective=0.0, flipud=0.0, fliplr=0.5, bgr=0.0, mosaic=1.0, mixup=0.0, copy_paste=0.0, copy_paste_mode=flip, auto_augment=randaugment, erasing=0.4, crop_fraction=1.0, cfg=None, tracker=botsort.yaml, save_dir=runs/detect/train2\n",
            "Overriding model.yaml nc=80 with nc=7\n",
            "\n",
            "                   from  n    params  module                                       arguments                     \n",
            "  0                  -1  1       928  ultralytics.nn.modules.conv.Conv             [3, 32, 3, 2]                 \n",
            "  1                  -1  1     18560  ultralytics.nn.modules.conv.Conv             [32, 64, 3, 2]                \n",
            "  2                  -1  1     29056  ultralytics.nn.modules.block.C2f             [64, 64, 1, True]             \n",
            "  3                  -1  1     73984  ultralytics.nn.modules.conv.Conv             [64, 128, 3, 2]               \n",
            "  4                  -1  2    197632  ultralytics.nn.modules.block.C2f             [128, 128, 2, True]           \n",
            "  5                  -1  1    295424  ultralytics.nn.modules.conv.Conv             [128, 256, 3, 2]              \n",
            "  6                  -1  2    788480  ultralytics.nn.modules.block.C2f             [256, 256, 2, True]           \n",
            "  7                  -1  1   1180672  ultralytics.nn.modules.conv.Conv             [256, 512, 3, 2]              \n",
            "  8                  -1  1   1838080  ultralytics.nn.modules.block.C2f             [512, 512, 1, True]           \n",
            "  9                  -1  1    656896  ultralytics.nn.modules.block.SPPF            [512, 512, 5]                 \n",
            " 10                  -1  1         0  torch.nn.modules.upsampling.Upsample         [None, 2, 'nearest']          \n",
            " 11             [-1, 6]  1         0  ultralytics.nn.modules.conv.Concat           [1]                           \n",
            " 12                  -1  1    591360  ultralytics.nn.modules.block.C2f             [768, 256, 1]                 \n",
            " 13                  -1  1         0  torch.nn.modules.upsampling.Upsample         [None, 2, 'nearest']          \n",
            " 14             [-1, 4]  1         0  ultralytics.nn.modules.conv.Concat           [1]                           \n",
            " 15                  -1  1    148224  ultralytics.nn.modules.block.C2f             [384, 128, 1]                 \n",
            " 16                  -1  1    147712  ultralytics.nn.modules.conv.Conv             [128, 128, 3, 2]              \n",
            " 17            [-1, 12]  1         0  ultralytics.nn.modules.conv.Concat           [1]                           \n",
            " 18                  -1  1    493056  ultralytics.nn.modules.block.C2f             [384, 256, 1]                 \n",
            " 19                  -1  1    590336  ultralytics.nn.modules.conv.Conv             [256, 256, 3, 2]              \n",
            " 20             [-1, 9]  1         0  ultralytics.nn.modules.conv.Concat           [1]                           \n",
            " 21                  -1  1   1969152  ultralytics.nn.modules.block.C2f             [768, 512, 1]                 \n",
            " 22        [15, 18, 21]  1   2118757  ultralytics.nn.modules.head.Detect           [7, [128, 256, 512]]          \n",
            "Model summary: 225 layers, 11,138,309 parameters, 11,138,293 gradients, 28.7 GFLOPs\n",
            "\n",
            "Transferred 349/355 items from pretrained weights\n",
            "\u001b[34m\u001b[1mTensorBoard: \u001b[0mStart with 'tensorboard --logdir runs/detect/train2', view at http://localhost:6006/\n",
            "Freezing layer 'model.22.dfl.conv.weight'\n"
          ]
        },
        {
          "name": "stderr",
          "output_type": "stream",
          "text": [
            "\u001b[34m\u001b[1mtrain: \u001b[0mScanning /content/drive/.shortcut-targets-by-id/1HX6wbQAvSQWO_kDemmLjQyfjYMvPaWbe/Datasets/labels/train.cache... 3200 images, 0 backgrounds, 0 corrupt: 100%|██████████| 3200/3200 [00:00<?, ?it/s]"
          ]
        },
        {
          "name": "stdout",
          "output_type": "stream",
          "text": [
            "\u001b[34m\u001b[1malbumentations: \u001b[0mBlur(p=0.01, blur_limit=(3, 7)), MedianBlur(p=0.01, blur_limit=(3, 7)), ToGray(p=0.01, num_output_channels=3, method='weighted_average'), CLAHE(p=0.01, clip_limit=(1, 4.0), tile_grid_size=(8, 8))\n"
          ]
        },
        {
          "name": "stderr",
          "output_type": "stream",
          "text": [
            "\n",
            "\u001b[34m\u001b[1mval: \u001b[0mScanning /content/drive/.shortcut-targets-by-id/1HX6wbQAvSQWO_kDemmLjQyfjYMvPaWbe/Datasets/labels/val.cache... 800 images, 0 backgrounds, 0 corrupt: 100%|██████████| 800/800 [00:00<?, ?it/s]"
          ]
        },
        {
          "name": "stdout",
          "output_type": "stream",
          "text": [
            "Plotting labels to runs/detect/train2/labels.jpg... \n"
          ]
        },
        {
          "name": "stderr",
          "output_type": "stream",
          "text": [
            "\n"
          ]
        },
        {
          "name": "stdout",
          "output_type": "stream",
          "text": [
            "\u001b[34m\u001b[1moptimizer:\u001b[0m 'optimizer=auto' found, ignoring 'lr0=0.01' and 'momentum=0.937' and determining best 'optimizer', 'lr0' and 'momentum' automatically... \n",
            "\u001b[34m\u001b[1moptimizer:\u001b[0m AdamW(lr=0.000909, momentum=0.9) with parameter groups 57 weight(decay=0.0), 64 weight(decay=0.0005), 63 bias(decay=0.0)\n",
            "\u001b[34m\u001b[1mTensorBoard: \u001b[0mmodel graph visualization added ✅\n",
            "Image sizes 416 train, 416 val\n",
            "Using 0 dataloader workers\n",
            "Logging results to \u001b[1mruns/detect/train2\u001b[0m\n",
            "Starting training for 5 epochs...\n",
            "\n",
            "      Epoch    GPU_mem   box_loss   cls_loss   dfl_loss  Instances       Size\n"
          ]
        },
        {
          "name": "stderr",
          "output_type": "stream",
          "text": [
            "        1/5         0G      2.275      3.053      2.111         62        416: 100%|██████████| 400/400 [52:06<00:00,  7.82s/it]\n",
            "                 Class     Images  Instances      Box(P          R      mAP50  mAP50-95): 100%|██████████| 50/50 [04:05<00:00,  4.91s/it]"
          ]
        },
        {
          "name": "stdout",
          "output_type": "stream",
          "text": [
            "                   all        800       2201      0.271      0.256      0.165     0.0598\n"
          ]
        },
        {
          "name": "stderr",
          "output_type": "stream",
          "text": [
            "\n"
          ]
        },
        {
          "name": "stdout",
          "output_type": "stream",
          "text": [
            "\n",
            "      Epoch    GPU_mem   box_loss   cls_loss   dfl_loss  Instances       Size\n"
          ]
        },
        {
          "name": "stderr",
          "output_type": "stream",
          "text": [
            "        2/5         0G        2.2      2.753      2.054         48        416: 100%|██████████| 400/400 [51:39<00:00,  7.75s/it]\n",
            "                 Class     Images  Instances      Box(P          R      mAP50  mAP50-95): 100%|██████████| 50/50 [03:53<00:00,  4.68s/it]\n"
          ]
        },
        {
          "name": "stdout",
          "output_type": "stream",
          "text": [
            "                   all        800       2201      0.193       0.33      0.155     0.0593\n",
            "\n",
            "      Epoch    GPU_mem   box_loss   cls_loss   dfl_loss  Instances       Size\n"
          ]
        },
        {
          "name": "stderr",
          "output_type": "stream",
          "text": [
            "        3/5         0G      2.165      2.665      2.034         42        416: 100%|██████████| 400/400 [50:31<00:00,  7.58s/it]\n",
            "                 Class     Images  Instances      Box(P          R      mAP50  mAP50-95): 100%|██████████| 50/50 [03:48<00:00,  4.57s/it]"
          ]
        },
        {
          "name": "stdout",
          "output_type": "stream",
          "text": [
            "                   all        800       2201      0.327      0.327      0.203     0.0817\n"
          ]
        },
        {
          "name": "stderr",
          "output_type": "stream",
          "text": [
            "\n"
          ]
        },
        {
          "name": "stdout",
          "output_type": "stream",
          "text": [
            "\n",
            "      Epoch    GPU_mem   box_loss   cls_loss   dfl_loss  Instances       Size\n"
          ]
        },
        {
          "name": "stderr",
          "output_type": "stream",
          "text": [
            "        4/5         0G      2.125      2.577      2.005         41        416:  87%|████████▋ | 347/400 [43:31<06:32,  7.40s/it]"
          ]
        }
      ],
      "source": [
        "# Start training the model\n",
        "results = model.train(data='/content/dataset.yaml', epochs=5, batch=8, imgsz=416)"
      ]
    },
    {
      "cell_type": "code",
      "execution_count": null,
      "metadata": {
        "id": "sIzK0pXg4t0_"
      },
      "outputs": [],
      "source": []
    }
  ],
  "metadata": {
    "colab": {
      "provenance": []
    },
    "kernelspec": {
      "display_name": "Python 3",
      "name": "python3"
    },
    "language_info": {
      "name": "python"
    }
  },
  "nbformat": 4,
  "nbformat_minor": 0
}